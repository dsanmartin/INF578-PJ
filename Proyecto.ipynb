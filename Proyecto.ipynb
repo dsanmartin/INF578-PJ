{
 "cells": [
  {
   "cell_type": "markdown",
   "metadata": {
    "_cell_guid": "33578605-1bb0-45ef-936e-20e63165c491",
    "_uuid": "f97ed48e0f06e83268636c2780b4ab8b70181852"
   },
   "source": [
    "# Proyecto Máquinas de Aprendizaje\n",
    "## Predicción de Incendios Forestales utilizando técnicas de Máquinas de Aprendizaje\n",
    "### Daniel San Martín"
   ]
  },
  {
   "cell_type": "markdown",
   "metadata": {
    "_cell_guid": "82c5e982-1bac-4c51-86e8-cacb772d87c5",
    "_uuid": "3c229d83511e68798cf23c86495451834908dff2"
   },
   "source": [
    "Este proyecto tiene como objetivo analizar el trabajo desarrollado en el artículo \"**A Data Mining Approach to Predict Forest Fires using Meteorological Data**\" de Paulo Cortez y Aníbal Morais. Para esto se realiza una comparación, análisis y propuesta de modelos sobre el trabajo desarrollado por los autores mencionados."
   ]
  },
  {
   "cell_type": "code",
   "execution_count": 1,
   "metadata": {
    "_cell_guid": "24d06e29-3f04-4685-bd8f-a77ec621c7e1",
    "_uuid": "d52126e30b286e24c03ab020f68437e8488750b9",
    "collapsed": true
   },
   "outputs": [],
   "source": [
    "# Load libraries\n",
    "import numpy as np # linear algebra\n",
    "import pandas as pd # data manipulation\n",
    "\n",
    "# Models\n",
    "from sklearn.linear_model import LinearRegression \n",
    "from sklearn.tree import DecisionTreeRegressor\n",
    "from sklearn.ensemble import RandomForestRegressor\n",
    "from sklearn.neural_network import MLPRegressor\n",
    "from sklearn.svm import SVR\n",
    "\n",
    "# Tools \n",
    "from sklearn.preprocessing import StandardScaler # data pre-processing\n",
    "from sklearn.metrics import mean_squared_error, mean_absolute_error, r2_score # regression metrics\n",
    "from sklearn.model_selection import train_test_split, cross_val_score, GridSearchCV # tools\n",
    "import matplotlib.pyplot as plt # plots"
   ]
  },
  {
   "cell_type": "markdown",
   "metadata": {
    "_cell_guid": "46f07fc1-b219-45a7-bdda-34c3c895b252",
    "_uuid": "7c8090e8bf8279dd94cccc1608b8146d7fb01630"
   },
   "source": [
    "## Pre-procesamiento de datos\n",
    "\n",
    "Los datos utilizados en este trabajo fueron extraidos del parque natural de Montesinho, en Trás-os-Montes región del noreste de Portugal, y contienen información sobre las áreas de terreno quemada en episodios de incendios entre enero del 2000 y diciembre del 2003."
   ]
  },
  {
   "cell_type": "code",
   "execution_count": 2,
   "metadata": {
    "_cell_guid": "6f68b8aa-293b-4efb-8f2e-4fd5724efe70",
    "_uuid": "3faf2304dc88c0ccef4a16adc0a6eb3e834d4c58",
    "scrolled": false
   },
   "outputs": [
    {
     "name": "stdout",
     "output_type": "stream",
     "text": [
      "Shape:  (517, 13)\n",
      "<class 'pandas.core.frame.DataFrame'>\n",
      "RangeIndex: 517 entries, 0 to 516\n",
      "Data columns (total 13 columns):\n",
      "X        517 non-null int64\n",
      "Y        517 non-null int64\n",
      "month    517 non-null int64\n",
      "day      517 non-null int64\n",
      "FFMC     517 non-null float64\n",
      "DMC      517 non-null float64\n",
      "DC       517 non-null float64\n",
      "ISI      517 non-null float64\n",
      "temp     517 non-null float64\n",
      "RH       517 non-null int64\n",
      "wind     517 non-null float64\n",
      "rain     517 non-null float64\n",
      "area     517 non-null float64\n",
      "dtypes: float64(8), int64(5)\n",
      "memory usage: 52.6 KB\n"
     ]
    },
    {
     "data": {
      "text/html": [
       "<div>\n",
       "<style>\n",
       "    .dataframe thead tr:only-child th {\n",
       "        text-align: right;\n",
       "    }\n",
       "\n",
       "    .dataframe thead th {\n",
       "        text-align: left;\n",
       "    }\n",
       "\n",
       "    .dataframe tbody tr th {\n",
       "        vertical-align: top;\n",
       "    }\n",
       "</style>\n",
       "<table border=\"1\" class=\"dataframe\">\n",
       "  <thead>\n",
       "    <tr style=\"text-align: right;\">\n",
       "      <th></th>\n",
       "      <th>X</th>\n",
       "      <th>Y</th>\n",
       "      <th>month</th>\n",
       "      <th>day</th>\n",
       "      <th>FFMC</th>\n",
       "      <th>DMC</th>\n",
       "      <th>DC</th>\n",
       "      <th>ISI</th>\n",
       "      <th>temp</th>\n",
       "      <th>RH</th>\n",
       "      <th>wind</th>\n",
       "      <th>rain</th>\n",
       "      <th>area</th>\n",
       "    </tr>\n",
       "  </thead>\n",
       "  <tbody>\n",
       "    <tr>\n",
       "      <th>count</th>\n",
       "      <td>517.000000</td>\n",
       "      <td>517.000000</td>\n",
       "      <td>517.000000</td>\n",
       "      <td>517.000000</td>\n",
       "      <td>517.000000</td>\n",
       "      <td>517.000000</td>\n",
       "      <td>517.000000</td>\n",
       "      <td>517.000000</td>\n",
       "      <td>517.000000</td>\n",
       "      <td>517.000000</td>\n",
       "      <td>517.000000</td>\n",
       "      <td>517.000000</td>\n",
       "      <td>517.000000</td>\n",
       "    </tr>\n",
       "    <tr>\n",
       "      <th>mean</th>\n",
       "      <td>4.669246</td>\n",
       "      <td>4.299807</td>\n",
       "      <td>7.475822</td>\n",
       "      <td>4.259188</td>\n",
       "      <td>90.644681</td>\n",
       "      <td>110.872340</td>\n",
       "      <td>547.940039</td>\n",
       "      <td>9.021663</td>\n",
       "      <td>18.889168</td>\n",
       "      <td>44.288201</td>\n",
       "      <td>4.017602</td>\n",
       "      <td>0.021663</td>\n",
       "      <td>12.847292</td>\n",
       "    </tr>\n",
       "    <tr>\n",
       "      <th>std</th>\n",
       "      <td>2.313778</td>\n",
       "      <td>1.229900</td>\n",
       "      <td>2.275990</td>\n",
       "      <td>2.072929</td>\n",
       "      <td>5.520111</td>\n",
       "      <td>64.046482</td>\n",
       "      <td>248.066192</td>\n",
       "      <td>4.559477</td>\n",
       "      <td>5.806625</td>\n",
       "      <td>16.317469</td>\n",
       "      <td>1.791653</td>\n",
       "      <td>0.295959</td>\n",
       "      <td>63.655818</td>\n",
       "    </tr>\n",
       "    <tr>\n",
       "      <th>min</th>\n",
       "      <td>1.000000</td>\n",
       "      <td>2.000000</td>\n",
       "      <td>1.000000</td>\n",
       "      <td>1.000000</td>\n",
       "      <td>18.700000</td>\n",
       "      <td>1.100000</td>\n",
       "      <td>7.900000</td>\n",
       "      <td>0.000000</td>\n",
       "      <td>2.200000</td>\n",
       "      <td>15.000000</td>\n",
       "      <td>0.400000</td>\n",
       "      <td>0.000000</td>\n",
       "      <td>0.000000</td>\n",
       "    </tr>\n",
       "    <tr>\n",
       "      <th>25%</th>\n",
       "      <td>3.000000</td>\n",
       "      <td>4.000000</td>\n",
       "      <td>7.000000</td>\n",
       "      <td>2.000000</td>\n",
       "      <td>90.200000</td>\n",
       "      <td>68.600000</td>\n",
       "      <td>437.700000</td>\n",
       "      <td>6.500000</td>\n",
       "      <td>15.500000</td>\n",
       "      <td>33.000000</td>\n",
       "      <td>2.700000</td>\n",
       "      <td>0.000000</td>\n",
       "      <td>0.000000</td>\n",
       "    </tr>\n",
       "    <tr>\n",
       "      <th>50%</th>\n",
       "      <td>4.000000</td>\n",
       "      <td>4.000000</td>\n",
       "      <td>8.000000</td>\n",
       "      <td>5.000000</td>\n",
       "      <td>91.600000</td>\n",
       "      <td>108.300000</td>\n",
       "      <td>664.200000</td>\n",
       "      <td>8.400000</td>\n",
       "      <td>19.300000</td>\n",
       "      <td>42.000000</td>\n",
       "      <td>4.000000</td>\n",
       "      <td>0.000000</td>\n",
       "      <td>0.520000</td>\n",
       "    </tr>\n",
       "    <tr>\n",
       "      <th>75%</th>\n",
       "      <td>7.000000</td>\n",
       "      <td>5.000000</td>\n",
       "      <td>9.000000</td>\n",
       "      <td>6.000000</td>\n",
       "      <td>92.900000</td>\n",
       "      <td>142.400000</td>\n",
       "      <td>713.900000</td>\n",
       "      <td>10.800000</td>\n",
       "      <td>22.800000</td>\n",
       "      <td>53.000000</td>\n",
       "      <td>4.900000</td>\n",
       "      <td>0.000000</td>\n",
       "      <td>6.570000</td>\n",
       "    </tr>\n",
       "    <tr>\n",
       "      <th>max</th>\n",
       "      <td>9.000000</td>\n",
       "      <td>9.000000</td>\n",
       "      <td>12.000000</td>\n",
       "      <td>7.000000</td>\n",
       "      <td>96.200000</td>\n",
       "      <td>291.300000</td>\n",
       "      <td>860.600000</td>\n",
       "      <td>56.100000</td>\n",
       "      <td>33.300000</td>\n",
       "      <td>100.000000</td>\n",
       "      <td>9.400000</td>\n",
       "      <td>6.400000</td>\n",
       "      <td>1090.840000</td>\n",
       "    </tr>\n",
       "  </tbody>\n",
       "</table>\n",
       "</div>"
      ],
      "text/plain": [
       "                X           Y       month         day        FFMC         DMC  \\\n",
       "count  517.000000  517.000000  517.000000  517.000000  517.000000  517.000000   \n",
       "mean     4.669246    4.299807    7.475822    4.259188   90.644681  110.872340   \n",
       "std      2.313778    1.229900    2.275990    2.072929    5.520111   64.046482   \n",
       "min      1.000000    2.000000    1.000000    1.000000   18.700000    1.100000   \n",
       "25%      3.000000    4.000000    7.000000    2.000000   90.200000   68.600000   \n",
       "50%      4.000000    4.000000    8.000000    5.000000   91.600000  108.300000   \n",
       "75%      7.000000    5.000000    9.000000    6.000000   92.900000  142.400000   \n",
       "max      9.000000    9.000000   12.000000    7.000000   96.200000  291.300000   \n",
       "\n",
       "               DC         ISI        temp          RH        wind        rain  \\\n",
       "count  517.000000  517.000000  517.000000  517.000000  517.000000  517.000000   \n",
       "mean   547.940039    9.021663   18.889168   44.288201    4.017602    0.021663   \n",
       "std    248.066192    4.559477    5.806625   16.317469    1.791653    0.295959   \n",
       "min      7.900000    0.000000    2.200000   15.000000    0.400000    0.000000   \n",
       "25%    437.700000    6.500000   15.500000   33.000000    2.700000    0.000000   \n",
       "50%    664.200000    8.400000   19.300000   42.000000    4.000000    0.000000   \n",
       "75%    713.900000   10.800000   22.800000   53.000000    4.900000    0.000000   \n",
       "max    860.600000   56.100000   33.300000  100.000000    9.400000    6.400000   \n",
       "\n",
       "              area  \n",
       "count   517.000000  \n",
       "mean     12.847292  \n",
       "std      63.655818  \n",
       "min       0.000000  \n",
       "25%       0.000000  \n",
       "50%       0.520000  \n",
       "75%       6.570000  \n",
       "max    1090.840000  "
      ]
     },
     "execution_count": 2,
     "metadata": {},
     "output_type": "execute_result"
    }
   ],
   "source": [
    "# Load data\n",
    "df = pd.read_csv(\"./data/forestfires.csv\", sep = \",\",header = 0)\n",
    "\n",
    "# Categorize month and days\n",
    "df.month.replace(('jan','feb','mar','apr','may','jun','jul','aug','sep','oct','nov','dec'),(1,2,3,4,5,6,7,8,9,10,11,12), inplace=True)\n",
    "df.day.replace(('mon','tue','wed','thu','fri','sat','sun'),(1,2,3,4,5,6,7), inplace=True)\n",
    "\n",
    "# Data information\n",
    "print(\"Shape: \", df.shape)\n",
    "df.info()\n",
    "df.describe()"
   ]
  },
  {
   "cell_type": "code",
   "execution_count": 3,
   "metadata": {
    "_cell_guid": "cafeb507-840e-4035-8ac3-fcd42a86fed3",
    "_uuid": "62d4db78d701d1c1bed4c5d278ca0df58fa38f0d"
   },
   "outputs": [
    {
     "data": {
      "image/png": "[encoded data removed]",
      "text/plain": [
       "<matplotlib.figure.Figure at 0x7fafcc63c668>"
      ]
     },
     "metadata": {},
     "output_type": "display_data"
    }
   ],
   "source": [
    "df.hist(figsize=(12, 10))\n",
    "plt.show()"
   ]
  },
  {
   "cell_type": "markdown",
   "metadata": {
    "_cell_guid": "030795b4-5cb2-4f01-99f7-026acccb3871",
    "_uuid": "aaf89adb028c1074764cd4b8369deca8378874bf"
   },
   "source": [
    "Notamos que el conjunto de datos posee un total de **517** registros con **12** atributos más la variable dependiente, en este caso el área quemada. Los datos contenidos corresponden a: \n",
    "1. Datos espaciales: mapeo del terreno a coordenadas $x$ e $y$.\n",
    "* Datos temporales: día y mes del año.\n",
    "* Datos del sistema FWI: códigos asociados al material y cantidad de combustible, además de un índice para evaluar la velocidad del fuego.\n",
    "* Datos meteorológicos: temperatura (°C), humedad relativa (%), velocidad del viento (km/hr) y precipitaciones en (mm/m²).\n",
    "\n",
    "El área, la variable dependiente, se encuentra expresada en hectáreas (ha).\n",
    "\n",
    "Además, los autores proponene 4 configuraciones de características para desarrollar los modelos:\n",
    "1. **STFWI** utilizando los datos espaciales, temporales y FWI.\n",
    "* **STM** utilizando los datos espaciales, temporales y meteorológicos.\n",
    "* **FWI**  utilizando solo los datos de este sistema.\n",
    "* **M** utilizando los datos meteorológicos.\n",
    "\n",
    "A modo de comparación, se utilizarán de igual forma los datos \"crudos\".  Para mejorar la capacidad del modelo se utiliza la categorización utilizando la estrategia *1-of-C*.\n"
   ]
  },
  {
   "cell_type": "code",
   "execution_count": 4,
   "metadata": {
    "_cell_guid": "8a785b09-c646-4869-a464-d2d62d5e0487",
    "_uuid": "55048e5bda8b440067c9ddf3c49a126d31bb3b98",
    "collapsed": true
   },
   "outputs": [],
   "source": [
    "# Data configurations\n",
    "STFWI = df.loc[:, ['X', 'Y', 'month', 'day', 'FFMC', 'DMC', 'DC', 'ISI']]\n",
    "STFWI = pd.get_dummies(STFWI, columns=['month', 'day'])\n",
    "STM = df.loc[:, ['X', 'Y', 'month', 'day', 'temp', 'RH', 'wind', 'rain']]\n",
    "STM = pd.get_dummies(STM, columns=['month', 'day'])\n",
    "FWI = df.loc[:, ['FFMC', 'DMC', 'DC', 'ISI']]\n",
    "M = df.loc[:, ['temp', 'RH', 'wind', 'rain']]\n",
    "\n",
    "# \"raw data\" X and Y separation\n",
    "X = df.iloc[:,:-1]\n",
    "y = df.iloc[:,-1]"
   ]
  },
  {
   "cell_type": "code",
   "execution_count": 5,
   "metadata": {
    "_cell_guid": "d5779803-1cde-4946-89d6-b278851d984b",
    "_uuid": "eb8e95752ec2b28908e38633d89b6179f3baca69",
    "collapsed": true
   },
   "outputs": [],
   "source": [
    "# Train and test split for all data configurations\n",
    "ts, rs = 0, 42\n",
    "X_train, X_test, y_train, y_test = train_test_split(X, y, test_size=ts, random_state=rs)\n",
    "STFWI_train, STFWI_test, _, _ = train_test_split(STFWI, y, test_size=ts, random_state=rs)\n",
    "STM_train, STM_test, _, _ = train_test_split(STM, y, test_size=ts, random_state=rs)\n",
    "FWI_train, FWI_test, _, _ = train_test_split(FWI, y, test_size=ts, random_state=rs)\n",
    "M_train, M_test, _, _ = train_test_split(M, y, test_size=ts, random_state=rs)"
   ]
  },
  {
   "cell_type": "code",
   "execution_count": 6,
   "metadata": {
    "_cell_guid": "9b4d830e-ab69-4824-aa16-80b69c91aecd",
    "_uuid": "addfc72b20c01182374127396d07c7ebcb935662",
    "collapsed": true
   },
   "outputs": [],
   "source": [
    "# Scalers\n",
    "s1 = StandardScaler().fit(X_train)\n",
    "s2 = StandardScaler().fit(STFWI_train)\n",
    "s3 = StandardScaler().fit(STM_train)\n",
    "s4 = StandardScaler().fit(FWI_train)\n",
    "s5 = StandardScaler().fit(M_train)\n",
    "\n",
    "# Pre-processing for all configurations \n",
    "X_train_sc = pd.DataFrame(s1.transform(X_train), columns=X_train.columns)\n",
    "X_train_sc.insert(X_train_sc.shape[1], 'intercept', np.ones(X_train_sc.shape[0]))\n",
    "STFWI_train_sc = pd.DataFrame(s2.transform(STFWI_train), columns=STFWI_train.columns)\n",
    "STFWI_train_sc.insert(STFWI_train_sc.shape[1], 'intercept', np.ones(STFWI_train_sc.shape[0]))\n",
    "STM_train_sc = pd.DataFrame(s3.transform(STM_train), columns=STM_train.columns)\n",
    "STM_train_sc.insert(STM_train_sc.shape[1], 'intercept', np.ones(STM_train_sc.shape[0]))\n",
    "FWI_train_sc = pd.DataFrame(s4.transform(FWI_train), columns=FWI_train.columns)\n",
    "FWI_train_sc.insert(FWI_train_sc.shape[1], 'intercept', np.ones(FWI_train_sc.shape[0]))\n",
    "M_train_sc = pd.DataFrame(s5.transform(M_train), columns=M_train.columns)\n",
    "M_train_sc.insert(M_train_sc.shape[1], 'intercept', np.ones(M_train_sc.shape[0]))"
   ]
  },
  {
   "cell_type": "markdown",
   "metadata": {
    "_cell_guid": "324140c7-7f87-4da2-bd22-1d7a5fee3a9d",
    "_uuid": "1c843abba9387c9d5d24c70d8785372e37b829af"
   },
   "source": [
    "Del análisis realizado anteriormente notamos que existe mayor cantidad de incendios \"pequeños\", es por esto que se sugiere aplicar la transformación logarítmica $y=ln(x+1)$ para incluir un poco de simetría y además escalar considerablemente los datos."
   ]
  },
  {
   "cell_type": "code",
   "execution_count": 7,
   "metadata": {
    "_cell_guid": "3b3a4d50-8ea2-492b-9214-89524de741d2",
    "_uuid": "a5d42df5d094cbf62ed4921e79ee2f1f80f45a0e"
   },
   "outputs": [
    {
     "data": {
      "image/png": "[encoded data removed]",
      "text/plain": [
       "<matplotlib.figure.Figure at 0x7faf93ad7978>"
      ]
     },
     "metadata": {},
     "output_type": "display_data"
    }
   ],
   "source": [
    "# Logarithmic transform\n",
    "y_train_sc = np.log(y_train + 1)\n",
    "\n",
    "# Comparison plot\n",
    "plt.figure(figsize=(12,4))\n",
    "plt.subplot(1, 2, 1)\n",
    "plt.plot(np.arange(len(y_train)), y_train, 'r')\n",
    "plt.subplot(1, 2, 2)\n",
    "plt.plot(np.arange(len(y_train_sc)), y_train_sc)\n",
    "plt.show()"
   ]
  },
  {
   "cell_type": "markdown",
   "metadata": {
    "_cell_guid": "672016b5-d342-4b07-aecd-c05162ea4592",
    "_uuid": "5a8237b39ba458073030197e5215a1dcadadc987"
   },
   "source": [
    "Notamos la clara diferencia en el área una vez que aplicamos la transformación logaritmica."
   ]
  },
  {
   "cell_type": "markdown",
   "metadata": {
    "_cell_guid": "e3763380-8a85-4871-93db-5bc374959e58",
    "_uuid": "9f4ceb7204e29a10368b7a73dbd198e00eef488e"
   },
   "source": [
    "Para evaluar la calidad de los modelos se utilizaran las méticas: R², MAE y MSE"
   ]
  },
  {
   "cell_type": "code",
   "execution_count": 8,
   "metadata": {
    "_cell_guid": "872c71ba-12ec-4bb0-b54c-06742f1f315c",
    "_uuid": "d3c049296fd463ca5d841c798284ad90fc5c5120",
    "collapsed": true
   },
   "outputs": [],
   "source": [
    "def printScores(y_real, y_hat):\n",
    "    print(\"R²: \", r2_score(y_real, y_hat))\n",
    "    print(\"MSE: \", mean_squared_error(y_real, y_hat))\n",
    "    print(\"RMSE: \", np.sqrt(mean_squared_error(y_real, y_hat)))\n",
    "    print(\"MAE: \", mean_absolute_error(y_real, y_hat))"
   ]
  },
  {
   "cell_type": "code",
   "execution_count": 71,
   "metadata": {},
   "outputs": [],
   "source": [
    "def CVScores(model):\n",
    "    scores = [\n",
    "        [\"Train R²: \", model.cv_results_['mean_train_r2'][model.best_index_]],\n",
    "        [\"Train MSE: \", model.cv_results_['mean_train_neg_mean_squared_error'][model.best_index_]],\n",
    "        [\"Train MAE: \", model.cv_results_['mean_train_neg_mean_absolute_error'][model.best_index_]],\n",
    "        [\"Test R²: \", model.cv_results_['mean_test_r2'][model.best_index_]],\n",
    "        [\"Test MSE: \", model.cv_results_['mean_test_neg_mean_squared_error'][model.best_index_]],\n",
    "        [\"Test MAE: \", model.cv_results_['mean_test_neg_mean_absolute_error'][model.best_index_]]\n",
    "    ]\n",
    "    return pd.DataFrame(scores, columns=['Metric', 'Score'])"
   ]
  },
  {
   "cell_type": "markdown",
   "metadata": {
    "_cell_guid": "dc0fd0f3-f39b-401b-831b-8599b641aab0",
    "_uuid": "89882ade1dc4e9daf5c7839ce0f72b290eaad0b5"
   },
   "source": [
    "## Linear Regression"
   ]
  },
  {
   "cell_type": "code",
   "execution_count": 9,
   "metadata": {
    "_cell_guid": "6771b7ff-496c-4fde-a66b-5c3b7c8f4ba7",
    "_uuid": "5217c8ad9f3a02cefb7ce3ba4d1f37fdf7b1e15a"
   },
   "outputs": [
    {
     "name": "stdout",
     "output_type": "stream",
     "text": [
      "R²:  0.0378289818614\n",
      "MSE:  1.87800434776\n",
      "RMSE:  1.37040298736\n",
      "MAE:  1.12448063862\n"
     ]
    }
   ],
   "source": [
    "# Linear Regression raw data\n",
    "lm1 = LinearRegression(fit_intercept=False, n_jobs=-1)\n",
    "_ = lm1.fit(X_train_sc, y_train_sc)\n",
    "y_hat_lm1 = lm1.predict(X_train_sc)\n",
    "printScores(y_train_sc, y_hat_lm1)"
   ]
  },
  {
   "cell_type": "code",
   "execution_count": 10,
   "metadata": {
    "_cell_guid": "e776488c-0a6a-4bfa-a77c-3f09690676b0",
    "_uuid": "bfde4d365e635c326bc74ee326584016d50e77c6",
    "collapsed": true
   },
   "outputs": [],
   "source": [
    "lm = LinearRegression(fit_intercept=False)\n",
    "cv_ = 5"
   ]
  },
  {
   "cell_type": "code",
   "execution_count": 11,
   "metadata": {
    "_cell_guid": "30c40762-c099-4d5d-8500-088dbef7c644",
    "_uuid": "7ad4d5e5163772f4107bbddb61e30564533d1ff8"
   },
   "outputs": [
    {
     "name": "stdout",
     "output_type": "stream",
     "text": [
      "STFWI\n",
      "MSE:  -2.01567589884\n",
      "MAE:  -1.15697306456\n",
      "R2:  -0.0380592056256\n"
     ]
    }
   ],
   "source": [
    "# STFWI data\n",
    "stfwi_mse = cross_val_score(lm, STFWI_train_sc, y_train_sc, cv=cv_, scoring='neg_mean_squared_error')\n",
    "stfwi_mae = cross_val_score(lm, STFWI_train_sc, y_train_sc, cv=cv_, scoring='neg_mean_absolute_error')\n",
    "stfwi_r2 = cross_val_score(lm, STFWI_train_sc, y_train_sc, cv=cv_, scoring='r2')\n",
    "\n",
    "print(\"STFWI\")\n",
    "print(\"MSE: \", stfwi_mse.mean())\n",
    "print(\"MAE: \", stfwi_mae.mean())\n",
    "print(\"R2: \", stfwi_r2.mean())"
   ]
  },
  {
   "cell_type": "code",
   "execution_count": 12,
   "metadata": {
    "_cell_guid": "d22cbf1c-c3a4-4fc9-b2a5-168197c4fc58",
    "_uuid": "736edf8d97a751a5e1fdbb6e04eaf31090798e1d"
   },
   "outputs": [
    {
     "name": "stdout",
     "output_type": "stream",
     "text": [
      "STM\n",
      "MSE:  -1.08356421922e+24\n",
      "MAE:  -45869469070.0\n",
      "R2:  -7.41143225089e+23\n"
     ]
    }
   ],
   "source": [
    "# STM data\n",
    "stm_mse = cross_val_score(lm, STM_train_sc, y_train_sc, cv=cv_, scoring='neg_mean_squared_error')\n",
    "stm_mae = cross_val_score(lm, STM_train_sc, y_train_sc, cv=cv_, scoring='neg_mean_absolute_error')\n",
    "stm_r2 = cross_val_score(lm, STM_train_sc, y_train_sc, cv=cv_, scoring='r2')\n",
    "\n",
    "print(\"STM\")\n",
    "print(\"MSE: \", stm_mse.mean())\n",
    "print(\"MAE: \", stm_mae.mean())\n",
    "print(\"R2: \", stm_r2.mean())"
   ]
  },
  {
   "cell_type": "code",
   "execution_count": 13,
   "metadata": {
    "_cell_guid": "0be6ea43-2ab2-4d57-b83a-d71d8f49fe0e",
    "_uuid": "b52f89395a34f67dab5dac3dac8f5ad1a8bd9dcf"
   },
   "outputs": [
    {
     "name": "stdout",
     "output_type": "stream",
     "text": [
      "FWI\n",
      "MSE:  -1.96202425494\n",
      "MAE:  -1.15841068999\n",
      "R2:  -0.00914864900879\n"
     ]
    }
   ],
   "source": [
    "# FWI data\n",
    "fwi_mse = cross_val_score(lm, FWI_train_sc, y_train_sc, cv=cv_, scoring='neg_mean_squared_error')\n",
    "fwi_mae = cross_val_score(lm, FWI_train_sc, y_train_sc, cv=cv_, scoring='neg_mean_absolute_error')\n",
    "fwi_r2 = cross_val_score(lm, FWI_train_sc, y_train_sc, cv=cv_, scoring='r2')\n",
    "\n",
    "print(\"FWI\")\n",
    "print(\"MSE: \", fwi_mse.mean())\n",
    "print(\"MAE: \", fwi_mae.mean())\n",
    "print(\"R2: \", fwi_r2.mean())"
   ]
  },
  {
   "cell_type": "code",
   "execution_count": 14,
   "metadata": {
    "_cell_guid": "e3b1e7b9-17d4-4fc0-8ac1-108a19c65933",
    "_uuid": "ff681e9421e4f7c95f8b7e8d36508f5d4706b613"
   },
   "outputs": [
    {
     "name": "stdout",
     "output_type": "stream",
     "text": [
      "M\n",
      "MSE:  -2.03919610473\n",
      "MAE:  -1.17161723174\n",
      "R2:  -0.0513582465201\n"
     ]
    }
   ],
   "source": [
    "# M data\n",
    "m_mse = cross_val_score(lm, M_train_sc, y_train_sc, cv=cv_, scoring='neg_mean_squared_error')\n",
    "m_mae = cross_val_score(lm, M_train_sc, y_train_sc, cv=cv_, scoring='neg_mean_absolute_error')\n",
    "m_r2 = cross_val_score(lm, M_train_sc, y_train_sc, cv=cv_, scoring='r2')\n",
    "\n",
    "print(\"M\")\n",
    "print(\"MSE: \", m_mse.mean())\n",
    "print(\"MAE: \", m_mae.mean())\n",
    "print(\"R2: \", m_r2.mean())"
   ]
  },
  {
   "cell_type": "code",
   "execution_count": 15,
   "metadata": {
    "_cell_guid": "5b57bf51-83e2-4842-8aa7-8e2b2555ac10",
    "_uuid": "c874193e540425c6985e961b4eb74e062763c574"
   },
   "outputs": [
    {
     "name": "stdout",
     "output_type": "stream",
     "text": [
      "Raw\n",
      "MSE:  -2.03729582603\n",
      "MAE:  -1.15510832736\n",
      "R2:  -0.0514665501873\n"
     ]
    }
   ],
   "source": [
    "# Raw data\n",
    "all_mse = cross_val_score(lm, X_train_sc, y_train_sc, cv=cv_, scoring='neg_mean_squared_error')\n",
    "all_mae = cross_val_score(lm, X_train_sc, y_train_sc, cv=cv_, scoring='neg_mean_absolute_error')\n",
    "all_r2 = cross_val_score(lm, X_train_sc, y_train_sc, cv=cv_, scoring='r2')\n",
    "\n",
    "print(\"Raw\")\n",
    "print(\"MSE: \", all_mse.mean())\n",
    "print(\"MAE: \", all_mae.mean())\n",
    "print(\"R2: \", all_r2.mean())"
   ]
  },
  {
   "cell_type": "code",
   "execution_count": 16,
   "metadata": {
    "_cell_guid": "963d37c3-583b-4553-9ba6-2c328493a73d",
    "_uuid": "6f9805ceeb3433623a39abb0919f2a0d7dd8d1cd"
   },
   "outputs": [
    {
     "name": "stdout",
     "output_type": "stream",
     "text": [
      "Numero optimo de features : 1\n",
      "Scores:  [-0.00464205 -0.0343141  -0.03254584 -0.0546902  -0.05389904 -0.05229652\n",
      " -0.04718327 -0.0436979  -0.04201209 -0.04651269 -0.05046844 -0.05047698\n",
      " -0.05146655]\n",
      "Ranking:  [ 5 13  2 12 10  4  3  8  9  7  6 11  1]\n"
     ]
    },
    {
     "data": {
      "image/png": "[encoded data removed]",
      "text/plain": [
       "<matplotlib.figure.Figure at 0x7faf93ab0518>"
      ]
     },
     "metadata": {},
     "output_type": "display_data"
    }
   ],
   "source": [
    "from sklearn.feature_selection import RFECV\n",
    "lm = LinearRegression(fit_intercept=False, n_jobs=-1)\n",
    "selector = RFECV(lm, step=1, cv=5, scoring='r2')\n",
    "selector = selector.fit(X_train_sc, y_train_sc)\n",
    "\n",
    "print(\"Numero optimo de features : %d\" % selector.n_features_)\n",
    "print(\"Scores: \", selector.grid_scores_) # Puntaje de ajuste\n",
    "print(\"Ranking: \", selector.ranking_)\n",
    "\n",
    "# Plot number of features VS. cross-validation scores\n",
    "plt.figure(figsize=(10, 6))\n",
    "plt.xlabel(\"Number of features selected\")\n",
    "plt.ylabel(\"Cross validation score\")\n",
    "plt.plot(np.arange(1, 1 + len(selector.grid_scores_)), selector.grid_scores_)\n",
    "plt.grid(True)\n",
    "plt.show()"
   ]
  },
  {
   "cell_type": "markdown",
   "metadata": {
    "_cell_guid": "3d8daf57-2c42-455a-918d-b008b05abfdb",
    "_uuid": "69f1db5516dabe313c281efe2b74e62e60bfc3ef",
    "collapsed": true
   },
   "source": [
    "## SVM"
   ]
  },
  {
   "cell_type": "code",
   "execution_count": 17,
   "metadata": {
    "_cell_guid": "9b307399-76b5-4168-8bac-52fd02bc6757",
    "_uuid": "2dd4014239ff04eeac1bdb9f2ac71f1e4e728231",
    "collapsed": true
   },
   "outputs": [],
   "source": [
    "#parameters = {'kernel':('linear', 'rbf'), 'C':[0.1, 1, 10], 'gamma': [1, 0.1, 0.01, 0.001]}\n",
    "parameters = [\n",
    "  {'C': [1, 10, 100, 1000], 'kernel': ['linear']},\n",
    "  {'C': [1, 10, 100, 1000], 'gamma': [0.001, 0.0001], 'kernel': ['rbf']},\n",
    " ]\n",
    "scorers = ['r2', 'neg_mean_squared_error', 'neg_mean_absolute_error']\n",
    "cv_ = 5"
   ]
  },
  {
   "cell_type": "code",
   "execution_count": 18,
   "metadata": {
    "_cell_guid": "3fcce443-f1fe-4807-99ae-9f417d90c530",
    "_uuid": "7be8c3768777bc181c893ec537f114c48c4aed33"
   },
   "outputs": [
    {
     "name": "stdout",
     "output_type": "stream",
     "text": [
      "Best parameters:  {'C': 1000, 'gamma': 0.0001, 'kernel': 'rbf'}\n"
     ]
    }
   ],
   "source": [
    "# SVR with STFWI data\n",
    "stfwi_svr = GridSearchCV(SVR(), parameters, cv=cv_, scoring=scorers, refit='r2', n_jobs=4)\n",
    "_ = stfwi_svr.fit(STFWI_train_sc, y_train_sc)\n",
    "print(\"Best parameters: \", stfwi_svr.best_params_)"
   ]
  },
  {
   "cell_type": "code",
   "execution_count": 19,
   "metadata": {
    "_cell_guid": "d29421de-646f-480d-a2b6-9ea7a833ac34",
    "_uuid": "2822b194ea3409b513c1215cb234c573c465df6f"
   },
   "outputs": [
    {
     "name": "stdout",
     "output_type": "stream",
     "text": [
      "STFWI\n",
      "R²:  -0.181621391007\n",
      "MSE:  -2.29854235812\n",
      "MAE:  -1.0941565026\n"
     ]
    }
   ],
   "source": [
    "print(\"STFWI\")\n",
    "print(\"R²: \", stfwi_svr.cv_results_['mean_test_r2'][stfwi_svr.best_index_])\n",
    "print(\"MSE: \", stfwi_svr.cv_results_['mean_test_neg_mean_squared_error'][stfwi_svr.best_index_])\n",
    "print(\"MAE: \", stfwi_svr.cv_results_['mean_test_neg_mean_absolute_error'][stfwi_svr.best_index_])"
   ]
  },
  {
   "cell_type": "code",
   "execution_count": 20,
   "metadata": {
    "_uuid": "0141594a3953e21d847ccbe2558e96ff975fa9dc"
   },
   "outputs": [
    {
     "name": "stdout",
     "output_type": "stream",
     "text": [
      "Best parameters:  {'C': 100, 'gamma': 0.001, 'kernel': 'rbf'}\n"
     ]
    }
   ],
   "source": [
    "# SVR with STM data\n",
    "stm_svr = GridSearchCV(SVR(), parameters, cv=cv_, scoring=scorers, refit='r2', n_jobs=4)\n",
    "_ = stm_svr.fit(STM_train_sc, y_train_sc)\n",
    "print(\"Best parameters: \", stm_svr.best_params_)"
   ]
  },
  {
   "cell_type": "code",
   "execution_count": 21,
   "metadata": {
    "_uuid": "95bc784e9feddf039ad92f10c9433092f869fe77"
   },
   "outputs": [
    {
     "name": "stdout",
     "output_type": "stream",
     "text": [
      "STM\n",
      "R²:  -0.185288994809\n",
      "MSE:  -2.30027777928\n",
      "MAE:  -1.09960610322\n"
     ]
    }
   ],
   "source": [
    "print(\"STM\")\n",
    "print(\"R²: \", stm_svr.cv_results_['mean_test_r2'][stm_svr.best_index_])\n",
    "print(\"MSE: \", stm_svr.cv_results_['mean_test_neg_mean_squared_error'][stm_svr.best_index_])\n",
    "print(\"MAE: \", stm_svr.cv_results_['mean_test_neg_mean_absolute_error'][stm_svr.best_index_])"
   ]
  },
  {
   "cell_type": "code",
   "execution_count": 22,
   "metadata": {
    "_uuid": "8ce3df4b107c6eff6add2f522be60609a43b20af"
   },
   "outputs": [
    {
     "name": "stdout",
     "output_type": "stream",
     "text": [
      "Best parameters:  {'C': 100, 'gamma': 0.0001, 'kernel': 'rbf'}\n"
     ]
    }
   ],
   "source": [
    "# SVR with FWI data\n",
    "fwi_svr = GridSearchCV(SVR(), parameters, cv=cv_, scoring=scorers, refit='r2', n_jobs=4)\n",
    "_ = fwi_svr.fit(FWI_train_sc, y_train_sc)\n",
    "print(\"Best parameters: \", fwi_svr.best_params_)"
   ]
  },
  {
   "cell_type": "code",
   "execution_count": 23,
   "metadata": {
    "_uuid": "5b29c176ee59faec4bd7702a475eff5d37bc3e6b"
   },
   "outputs": [
    {
     "name": "stdout",
     "output_type": "stream",
     "text": [
      "FWI\n",
      "R²:  -0.21393714328\n",
      "MSE:  -2.35797390882\n",
      "MAE:  -1.09257492905\n"
     ]
    }
   ],
   "source": [
    "print(\"FWI\")\n",
    "print(\"R²: \", fwi_svr.cv_results_['mean_test_r2'][fwi_svr.best_index_])\n",
    "print(\"MSE: \", fwi_svr.cv_results_['mean_test_neg_mean_squared_error'][fwi_svr.best_index_])\n",
    "print(\"MAE: \", fwi_svr.cv_results_['mean_test_neg_mean_absolute_error'][fwi_svr.best_index_])"
   ]
  },
  {
   "cell_type": "code",
   "execution_count": 24,
   "metadata": {
    "_uuid": "baece2972206d30f6814820b4a2a6c8e61838e9a"
   },
   "outputs": [
    {
     "name": "stdout",
     "output_type": "stream",
     "text": [
      "Best parameters:  {'C': 100, 'gamma': 0.001, 'kernel': 'rbf'}\n"
     ]
    }
   ],
   "source": [
    "# SVR with M data\n",
    "m_svr = GridSearchCV(SVR(), parameters, cv=cv_, scoring=scorers, refit='r2', n_jobs=4)\n",
    "_ = m_svr.fit(M_train_sc, y_train_sc)\n",
    "print(\"Best parameters: \", m_svr.best_params_)"
   ]
  },
  {
   "cell_type": "code",
   "execution_count": 25,
   "metadata": {
    "_uuid": "4c16ed2fd984f6484a893e8e7f86c649fe5f4f78"
   },
   "outputs": [
    {
     "name": "stdout",
     "output_type": "stream",
     "text": [
      "M\n",
      "R²:  -0.218638754124\n",
      "MSE:  -2.37457017324\n",
      "MAE:  -1.09193444668\n"
     ]
    }
   ],
   "source": [
    "print(\"M\")\n",
    "print(\"R²: \", m_svr.cv_results_['mean_test_r2'][m_svr.best_index_])\n",
    "print(\"MSE: \", m_svr.cv_results_['mean_test_neg_mean_squared_error'][m_svr.best_index_])\n",
    "print(\"MAE: \", m_svr.cv_results_['mean_test_neg_mean_absolute_error'][m_svr.best_index_])"
   ]
  },
  {
   "cell_type": "code",
   "execution_count": 26,
   "metadata": {
    "_uuid": "118133e348fd7ee53b2daa941d78151caabddfbe"
   },
   "outputs": [
    {
     "name": "stdout",
     "output_type": "stream",
     "text": [
      "Best parameters:  {'C': 100, 'gamma': 0.001, 'kernel': 'rbf'}\n"
     ]
    }
   ],
   "source": [
    "# SVR with all data\n",
    "all_svr = GridSearchCV(SVR(), parameters, cv=cv_, scoring=scorers, refit='r2', n_jobs=4)\n",
    "_ = all_svr.fit(X_train_sc, y_train_sc)\n",
    "print(\"Best parameters: \", all_svr.best_params_)"
   ]
  },
  {
   "cell_type": "code",
   "execution_count": 27,
   "metadata": {
    "_uuid": "245e72cadbe3ca7b4e28f6ccd4b48b6add1477ae"
   },
   "outputs": [
    {
     "name": "stdout",
     "output_type": "stream",
     "text": [
      "All data\n",
      "R²:  -0.161344117525\n",
      "MSE:  -2.25741455191\n",
      "MAE:  -1.08911816312\n"
     ]
    }
   ],
   "source": [
    "print(\"All data\")\n",
    "print(\"R²: \", all_svr.cv_results_['mean_test_r2'][all_svr.best_index_])\n",
    "print(\"MSE: \", all_svr.cv_results_['mean_test_neg_mean_squared_error'][all_svr.best_index_])\n",
    "print(\"MAE: \", all_svr.cv_results_['mean_test_neg_mean_absolute_error'][all_svr.best_index_])"
   ]
  },
  {
   "cell_type": "markdown",
   "metadata": {
    "_cell_guid": "c460f1d2-f5c4-4e1d-a1b2-eef89c192341",
    "_uuid": "e5360fe31608b6a9f4cba3f9205053d163909f7f"
   },
   "source": [
    "## Decision Trees"
   ]
  },
  {
   "cell_type": "code",
   "execution_count": 57,
   "metadata": {
    "collapsed": true
   },
   "outputs": [],
   "source": [
    "parameters = {'criterion': ('mse', 'mae'), 'splitter': ('best', 'random'), 'max_depth': [10, 50, 100]}\n",
    "scorers = ['r2', 'neg_mean_squared_error', 'neg_mean_absolute_error']\n",
    "cv_ = 5"
   ]
  },
  {
   "cell_type": "markdown",
   "metadata": {},
   "source": [
    "### STFWI data"
   ]
  },
  {
   "cell_type": "code",
   "execution_count": 58,
   "metadata": {},
   "outputs": [
    {
     "name": "stdout",
     "output_type": "stream",
     "text": [
      "Best parameters:  {'criterion': 'mse', 'max_depth': 10, 'splitter': 'random'}\n"
     ]
    }
   ],
   "source": [
    "stfwi_dt = GridSearchCV(DecisionTreeRegressor(), parameters, cv=cv_, scoring=scorers, refit='r2', n_jobs=4)\n",
    "_ = stfwi_dt.fit(STFWI_train_sc, y_train_sc)\n",
    "print(\"Best parameters: \", stfwi_dt.best_params_)"
   ]
  },
  {
   "cell_type": "code",
   "execution_count": 75,
   "metadata": {
    "_uuid": "494230aaddeb17763f2cc105bcf129e87405178c"
   },
   "outputs": [
    {
     "data": {
      "text/html": [
       "<div>\n",
       "<style>\n",
       "    .dataframe thead tr:only-child th {\n",
       "        text-align: right;\n",
       "    }\n",
       "\n",
       "    .dataframe thead th {\n",
       "        text-align: left;\n",
       "    }\n",
       "\n",
       "    .dataframe tbody tr th {\n",
       "        vertical-align: top;\n",
       "    }\n",
       "</style>\n",
       "<table border=\"1\" class=\"dataframe\">\n",
       "  <thead>\n",
       "    <tr style=\"text-align: right;\">\n",
       "      <th></th>\n",
       "      <th>Metric</th>\n",
       "      <th>Score</th>\n",
       "    </tr>\n",
       "  </thead>\n",
       "  <tbody>\n",
       "    <tr>\n",
       "      <th>0</th>\n",
       "      <td>Train R²:</td>\n",
       "      <td>0.530954</td>\n",
       "    </tr>\n",
       "    <tr>\n",
       "      <th>1</th>\n",
       "      <td>Train MSE:</td>\n",
       "      <td>-0.916417</td>\n",
       "    </tr>\n",
       "    <tr>\n",
       "      <th>2</th>\n",
       "      <td>Train MAE:</td>\n",
       "      <td>-0.622789</td>\n",
       "    </tr>\n",
       "    <tr>\n",
       "      <th>3</th>\n",
       "      <td>Test R²:</td>\n",
       "      <td>-0.542088</td>\n",
       "    </tr>\n",
       "    <tr>\n",
       "      <th>4</th>\n",
       "      <td>Test MSE:</td>\n",
       "      <td>-2.980349</td>\n",
       "    </tr>\n",
       "    <tr>\n",
       "      <th>5</th>\n",
       "      <td>Test MAE:</td>\n",
       "      <td>-1.270283</td>\n",
       "    </tr>\n",
       "  </tbody>\n",
       "</table>\n",
       "</div>"
      ],
      "text/plain": [
       "        Metric     Score\n",
       "0   Train R²:   0.530954\n",
       "1  Train MSE:  -0.916417\n",
       "2  Train MAE:  -0.622789\n",
       "3    Test R²:  -0.542088\n",
       "4   Test MSE:  -2.980349\n",
       "5   Test MAE:  -1.270283"
      ]
     },
     "execution_count": 75,
     "metadata": {},
     "output_type": "execute_result"
    }
   ],
   "source": [
    "CVScores(stfwi_dt)"
   ]
  },
  {
   "cell_type": "markdown",
   "metadata": {},
   "source": [
    "### STM data"
   ]
  },
  {
   "cell_type": "code",
   "execution_count": 76,
   "metadata": {},
   "outputs": [
    {
     "name": "stdout",
     "output_type": "stream",
     "text": [
      "Best parameters:  {'criterion': 'mse', 'max_depth': 10, 'splitter': 'random'}\n"
     ]
    }
   ],
   "source": [
    "stm_dt = GridSearchCV(DecisionTreeRegressor(), parameters, cv=cv_, scoring=scorers, refit='r2', n_jobs=4)\n",
    "_ = stm_dt.fit(STM_train_sc, y_train_sc)\n",
    "print(\"Best parameters: \", stm_dt.best_params_)"
   ]
  },
  {
   "cell_type": "code",
   "execution_count": 77,
   "metadata": {},
   "outputs": [
    {
     "data": {
      "text/html": [
       "<div>\n",
       "<style>\n",
       "    .dataframe thead tr:only-child th {\n",
       "        text-align: right;\n",
       "    }\n",
       "\n",
       "    .dataframe thead th {\n",
       "        text-align: left;\n",
       "    }\n",
       "\n",
       "    .dataframe tbody tr th {\n",
       "        vertical-align: top;\n",
       "    }\n",
       "</style>\n",
       "<table border=\"1\" class=\"dataframe\">\n",
       "  <thead>\n",
       "    <tr style=\"text-align: right;\">\n",
       "      <th></th>\n",
       "      <th>Metric</th>\n",
       "      <th>Score</th>\n",
       "    </tr>\n",
       "  </thead>\n",
       "  <tbody>\n",
       "    <tr>\n",
       "      <th>0</th>\n",
       "      <td>Train R²:</td>\n",
       "      <td>0.518769</td>\n",
       "    </tr>\n",
       "    <tr>\n",
       "      <th>1</th>\n",
       "      <td>Train MSE:</td>\n",
       "      <td>-0.936106</td>\n",
       "    </tr>\n",
       "    <tr>\n",
       "      <th>2</th>\n",
       "      <td>Train MAE:</td>\n",
       "      <td>-0.637580</td>\n",
       "    </tr>\n",
       "    <tr>\n",
       "      <th>3</th>\n",
       "      <td>Test R²:</td>\n",
       "      <td>-0.528792</td>\n",
       "    </tr>\n",
       "    <tr>\n",
       "      <th>4</th>\n",
       "      <td>Test MSE:</td>\n",
       "      <td>-2.893472</td>\n",
       "    </tr>\n",
       "    <tr>\n",
       "      <th>5</th>\n",
       "      <td>Test MAE:</td>\n",
       "      <td>-1.278925</td>\n",
       "    </tr>\n",
       "  </tbody>\n",
       "</table>\n",
       "</div>"
      ],
      "text/plain": [
       "        Metric     Score\n",
       "0   Train R²:   0.518769\n",
       "1  Train MSE:  -0.936106\n",
       "2  Train MAE:  -0.637580\n",
       "3    Test R²:  -0.528792\n",
       "4   Test MSE:  -2.893472\n",
       "5   Test MAE:  -1.278925"
      ]
     },
     "execution_count": 77,
     "metadata": {},
     "output_type": "execute_result"
    }
   ],
   "source": [
    "CVScores(stm_dt)"
   ]
  },
  {
   "cell_type": "markdown",
   "metadata": {},
   "source": [
    "### FWI data"
   ]
  },
  {
   "cell_type": "code",
   "execution_count": 82,
   "metadata": {},
   "outputs": [
    {
     "name": "stdout",
     "output_type": "stream",
     "text": [
      "Best parameters:  {'criterion': 'mse', 'max_depth': 10, 'splitter': 'random'}\n"
     ]
    }
   ],
   "source": [
    "fwi_dt = GridSearchCV(DecisionTreeRegressor(), parameters, cv=cv_, scoring=scorers, refit='r2', n_jobs=4)\n",
    "_ = fwi_dt.fit(FWI_train_sc, y_train_sc)\n",
    "print(\"Best parameters: \", fwi_dt.best_params_)"
   ]
  },
  {
   "cell_type": "code",
   "execution_count": 83,
   "metadata": {},
   "outputs": [
    {
     "data": {
      "text/html": [
       "<div>\n",
       "<style>\n",
       "    .dataframe thead tr:only-child th {\n",
       "        text-align: right;\n",
       "    }\n",
       "\n",
       "    .dataframe thead th {\n",
       "        text-align: left;\n",
       "    }\n",
       "\n",
       "    .dataframe tbody tr th {\n",
       "        vertical-align: top;\n",
       "    }\n",
       "</style>\n",
       "<table border=\"1\" class=\"dataframe\">\n",
       "  <thead>\n",
       "    <tr style=\"text-align: right;\">\n",
       "      <th></th>\n",
       "      <th>Metric</th>\n",
       "      <th>Score</th>\n",
       "    </tr>\n",
       "  </thead>\n",
       "  <tbody>\n",
       "    <tr>\n",
       "      <th>0</th>\n",
       "      <td>Train R²:</td>\n",
       "      <td>0.307222</td>\n",
       "    </tr>\n",
       "    <tr>\n",
       "      <th>1</th>\n",
       "      <td>Train MSE:</td>\n",
       "      <td>-1.357001</td>\n",
       "    </tr>\n",
       "    <tr>\n",
       "      <th>2</th>\n",
       "      <td>Train MAE:</td>\n",
       "      <td>-0.830776</td>\n",
       "    </tr>\n",
       "    <tr>\n",
       "      <th>3</th>\n",
       "      <td>Test R²:</td>\n",
       "      <td>-0.357600</td>\n",
       "    </tr>\n",
       "    <tr>\n",
       "      <th>4</th>\n",
       "      <td>Test MSE:</td>\n",
       "      <td>-2.643077</td>\n",
       "    </tr>\n",
       "    <tr>\n",
       "      <th>5</th>\n",
       "      <td>Test MAE:</td>\n",
       "      <td>-1.241780</td>\n",
       "    </tr>\n",
       "  </tbody>\n",
       "</table>\n",
       "</div>"
      ],
      "text/plain": [
       "        Metric     Score\n",
       "0   Train R²:   0.307222\n",
       "1  Train MSE:  -1.357001\n",
       "2  Train MAE:  -0.830776\n",
       "3    Test R²:  -0.357600\n",
       "4   Test MSE:  -2.643077\n",
       "5   Test MAE:  -1.241780"
      ]
     },
     "execution_count": 83,
     "metadata": {},
     "output_type": "execute_result"
    }
   ],
   "source": [
    "CVScores(fwi_dt)"
   ]
  },
  {
   "cell_type": "markdown",
   "metadata": {},
   "source": [
    "### M data"
   ]
  },
  {
   "cell_type": "code",
   "execution_count": 84,
   "metadata": {},
   "outputs": [
    {
     "name": "stdout",
     "output_type": "stream",
     "text": [
      "Best parameters:  {'criterion': 'mse', 'max_depth': 10, 'splitter': 'best'}\n"
     ]
    }
   ],
   "source": [
    "m_dt = GridSearchCV(DecisionTreeRegressor(), parameters, cv=cv_, scoring=scorers, refit='r2', n_jobs=4)\n",
    "_ = m_dt.fit(M_train_sc, y_train_sc)\n",
    "print(\"Best parameters: \", m_dt.best_params_)"
   ]
  },
  {
   "cell_type": "code",
   "execution_count": 85,
   "metadata": {},
   "outputs": [
    {
     "data": {
      "text/html": [
       "<div>\n",
       "<style>\n",
       "    .dataframe thead tr:only-child th {\n",
       "        text-align: right;\n",
       "    }\n",
       "\n",
       "    .dataframe thead th {\n",
       "        text-align: left;\n",
       "    }\n",
       "\n",
       "    .dataframe tbody tr th {\n",
       "        vertical-align: top;\n",
       "    }\n",
       "</style>\n",
       "<table border=\"1\" class=\"dataframe\">\n",
       "  <thead>\n",
       "    <tr style=\"text-align: right;\">\n",
       "      <th></th>\n",
       "      <th>Metric</th>\n",
       "      <th>Score</th>\n",
       "    </tr>\n",
       "  </thead>\n",
       "  <tbody>\n",
       "    <tr>\n",
       "      <th>0</th>\n",
       "      <td>Train R²:</td>\n",
       "      <td>0.502179</td>\n",
       "    </tr>\n",
       "    <tr>\n",
       "      <th>1</th>\n",
       "      <td>Train MSE:</td>\n",
       "      <td>-0.971410</td>\n",
       "    </tr>\n",
       "    <tr>\n",
       "      <th>2</th>\n",
       "      <td>Train MAE:</td>\n",
       "      <td>-0.654116</td>\n",
       "    </tr>\n",
       "    <tr>\n",
       "      <th>3</th>\n",
       "      <td>Test R²:</td>\n",
       "      <td>-0.458636</td>\n",
       "    </tr>\n",
       "    <tr>\n",
       "      <th>4</th>\n",
       "      <td>Test MSE:</td>\n",
       "      <td>-2.778987</td>\n",
       "    </tr>\n",
       "    <tr>\n",
       "      <th>5</th>\n",
       "      <td>Test MAE:</td>\n",
       "      <td>-1.234688</td>\n",
       "    </tr>\n",
       "  </tbody>\n",
       "</table>\n",
       "</div>"
      ],
      "text/plain": [
       "        Metric     Score\n",
       "0   Train R²:   0.502179\n",
       "1  Train MSE:  -0.971410\n",
       "2  Train MAE:  -0.654116\n",
       "3    Test R²:  -0.458636\n",
       "4   Test MSE:  -2.778987\n",
       "5   Test MAE:  -1.234688"
      ]
     },
     "execution_count": 85,
     "metadata": {},
     "output_type": "execute_result"
    }
   ],
   "source": [
    "CVScores(m_dt)"
   ]
  },
  {
   "cell_type": "markdown",
   "metadata": {},
   "source": [
    "### All data"
   ]
  },
  {
   "cell_type": "code",
   "execution_count": 80,
   "metadata": {},
   "outputs": [
    {
     "name": "stdout",
     "output_type": "stream",
     "text": [
      "Best parameters:  {'criterion': 'mse', 'max_depth': 10, 'splitter': 'random'}\n"
     ]
    }
   ],
   "source": [
    "all_dt = GridSearchCV(DecisionTreeRegressor(), parameters, cv=cv_, scoring=scorers, refit='r2', n_jobs=4)\n",
    "_ = all_dt.fit(X_train_sc, y_train_sc)\n",
    "print(\"Best parameters: \", all_dt.best_params_)"
   ]
  },
  {
   "cell_type": "code",
   "execution_count": 81,
   "metadata": {},
   "outputs": [
    {
     "data": {
      "text/html": [
       "<div>\n",
       "<style>\n",
       "    .dataframe thead tr:only-child th {\n",
       "        text-align: right;\n",
       "    }\n",
       "\n",
       "    .dataframe thead th {\n",
       "        text-align: left;\n",
       "    }\n",
       "\n",
       "    .dataframe tbody tr th {\n",
       "        vertical-align: top;\n",
       "    }\n",
       "</style>\n",
       "<table border=\"1\" class=\"dataframe\">\n",
       "  <thead>\n",
       "    <tr style=\"text-align: right;\">\n",
       "      <th></th>\n",
       "      <th>Metric</th>\n",
       "      <th>Score</th>\n",
       "    </tr>\n",
       "  </thead>\n",
       "  <tbody>\n",
       "    <tr>\n",
       "      <th>0</th>\n",
       "      <td>Train R²:</td>\n",
       "      <td>0.598247</td>\n",
       "    </tr>\n",
       "    <tr>\n",
       "      <th>1</th>\n",
       "      <td>Train MSE:</td>\n",
       "      <td>-0.779651</td>\n",
       "    </tr>\n",
       "    <tr>\n",
       "      <th>2</th>\n",
       "      <td>Train MAE:</td>\n",
       "      <td>-0.545008</td>\n",
       "    </tr>\n",
       "    <tr>\n",
       "      <th>3</th>\n",
       "      <td>Test R²:</td>\n",
       "      <td>-0.624932</td>\n",
       "    </tr>\n",
       "    <tr>\n",
       "      <th>4</th>\n",
       "      <td>Test MSE:</td>\n",
       "      <td>-3.134150</td>\n",
       "    </tr>\n",
       "    <tr>\n",
       "      <th>5</th>\n",
       "      <td>Test MAE:</td>\n",
       "      <td>-1.302183</td>\n",
       "    </tr>\n",
       "  </tbody>\n",
       "</table>\n",
       "</div>"
      ],
      "text/plain": [
       "        Metric     Score\n",
       "0   Train R²:   0.598247\n",
       "1  Train MSE:  -0.779651\n",
       "2  Train MAE:  -0.545008\n",
       "3    Test R²:  -0.624932\n",
       "4   Test MSE:  -3.134150\n",
       "5   Test MAE:  -1.302183"
      ]
     },
     "execution_count": 81,
     "metadata": {},
     "output_type": "execute_result"
    }
   ],
   "source": [
    "CVScores(all_dt)"
   ]
  },
  {
   "cell_type": "markdown",
   "metadata": {
    "_cell_guid": "add2b9a3-10c9-4b40-8e31-3480b225f6d7",
    "_uuid": "4d35e42ffb5ac6acb67a3ab3c6285afe84ee9d0a"
   },
   "source": [
    "## Random Forest"
   ]
  },
  {
   "cell_type": "code",
   "execution_count": 93,
   "metadata": {
    "collapsed": true
   },
   "outputs": [],
   "source": [
    "parameters = {'n_estimators':[10, 20, 30], 'criterion': ('mse', 'mae'), 'max_depth': [50, 100]}\n",
    "scorers = ['r2', 'neg_mean_squared_error', 'neg_mean_absolute_error']\n",
    "cv_ = 5"
   ]
  },
  {
   "cell_type": "markdown",
   "metadata": {},
   "source": [
    "### STFWI data"
   ]
  },
  {
   "cell_type": "code",
   "execution_count": 94,
   "metadata": {},
   "outputs": [
    {
     "name": "stdout",
     "output_type": "stream",
     "text": [
      "Best parameters:  {'criterion': 'mae', 'max_depth': 100, 'n_estimators': 20}\n"
     ]
    }
   ],
   "source": [
    "stfwi_rf = GridSearchCV(RandomForestRegressor(n_jobs=-1), parameters, cv=cv_, scoring=scorers, refit='r2', n_jobs=4)\n",
    "_ = stfwi_rf.fit(STFWI_train_sc, y_train_sc)\n",
    "print(\"Best parameters: \", stfwi_rf.best_params_)"
   ]
  },
  {
   "cell_type": "code",
   "execution_count": 95,
   "metadata": {},
   "outputs": [
    {
     "data": {
      "text/html": [
       "<div>\n",
       "<style>\n",
       "    .dataframe thead tr:only-child th {\n",
       "        text-align: right;\n",
       "    }\n",
       "\n",
       "    .dataframe thead th {\n",
       "        text-align: left;\n",
       "    }\n",
       "\n",
       "    .dataframe tbody tr th {\n",
       "        vertical-align: top;\n",
       "    }\n",
       "</style>\n",
       "<table border=\"1\" class=\"dataframe\">\n",
       "  <thead>\n",
       "    <tr style=\"text-align: right;\">\n",
       "      <th></th>\n",
       "      <th>Metric</th>\n",
       "      <th>Score</th>\n",
       "    </tr>\n",
       "  </thead>\n",
       "  <tbody>\n",
       "    <tr>\n",
       "      <th>0</th>\n",
       "      <td>Train R²:</td>\n",
       "      <td>0.735463</td>\n",
       "    </tr>\n",
       "    <tr>\n",
       "      <th>1</th>\n",
       "      <td>Train MSE:</td>\n",
       "      <td>-0.516893</td>\n",
       "    </tr>\n",
       "    <tr>\n",
       "      <th>2</th>\n",
       "      <td>Train MAE:</td>\n",
       "      <td>-0.520372</td>\n",
       "    </tr>\n",
       "    <tr>\n",
       "      <th>3</th>\n",
       "      <td>Test R²:</td>\n",
       "      <td>-0.125330</td>\n",
       "    </tr>\n",
       "    <tr>\n",
       "      <th>4</th>\n",
       "      <td>Test MSE:</td>\n",
       "      <td>-2.185709</td>\n",
       "    </tr>\n",
       "    <tr>\n",
       "      <th>5</th>\n",
       "      <td>Test MAE:</td>\n",
       "      <td>-1.152429</td>\n",
       "    </tr>\n",
       "  </tbody>\n",
       "</table>\n",
       "</div>"
      ],
      "text/plain": [
       "        Metric     Score\n",
       "0   Train R²:   0.735463\n",
       "1  Train MSE:  -0.516893\n",
       "2  Train MAE:  -0.520372\n",
       "3    Test R²:  -0.125330\n",
       "4   Test MSE:  -2.185709\n",
       "5   Test MAE:  -1.152429"
      ]
     },
     "execution_count": 95,
     "metadata": {},
     "output_type": "execute_result"
    }
   ],
   "source": [
    "CVScores(stfwi_rf)"
   ]
  },
  {
   "cell_type": "markdown",
   "metadata": {},
   "source": [
    "### STM data"
   ]
  },
  {
   "cell_type": "code",
   "execution_count": 97,
   "metadata": {},
   "outputs": [
    {
     "name": "stdout",
     "output_type": "stream",
     "text": [
      "Best parameters:  {'criterion': 'mse', 'max_depth': 100, 'n_estimators': 30}\n"
     ]
    }
   ],
   "source": [
    "all_rf = GridSearchCV(RandomForestRegressor(n_jobs=-1), parameters, cv=cv_, scoring=scorers, refit='r2', n_jobs=4)\n",
    "_ = all_rf.fit(X_train_sc, y_train_sc)\n",
    "print(\"Best parameters: \", all_rf.best_params_)"
   ]
  },
  {
   "cell_type": "code",
   "execution_count": 98,
   "metadata": {},
   "outputs": [
    {
     "data": {
      "text/html": [
       "<div>\n",
       "<style>\n",
       "    .dataframe thead tr:only-child th {\n",
       "        text-align: right;\n",
       "    }\n",
       "\n",
       "    .dataframe thead th {\n",
       "        text-align: left;\n",
       "    }\n",
       "\n",
       "    .dataframe tbody tr th {\n",
       "        vertical-align: top;\n",
       "    }\n",
       "</style>\n",
       "<table border=\"1\" class=\"dataframe\">\n",
       "  <thead>\n",
       "    <tr style=\"text-align: right;\">\n",
       "      <th></th>\n",
       "      <th>Metric</th>\n",
       "      <th>Score</th>\n",
       "    </tr>\n",
       "  </thead>\n",
       "  <tbody>\n",
       "    <tr>\n",
       "      <th>0</th>\n",
       "      <td>Train R²:</td>\n",
       "      <td>0.828729</td>\n",
       "    </tr>\n",
       "    <tr>\n",
       "      <th>1</th>\n",
       "      <td>Train MSE:</td>\n",
       "      <td>-0.334529</td>\n",
       "    </tr>\n",
       "    <tr>\n",
       "      <th>2</th>\n",
       "      <td>Train MAE:</td>\n",
       "      <td>-0.450738</td>\n",
       "    </tr>\n",
       "    <tr>\n",
       "      <th>3</th>\n",
       "      <td>Test R²:</td>\n",
       "      <td>-0.105836</td>\n",
       "    </tr>\n",
       "    <tr>\n",
       "      <th>4</th>\n",
       "      <td>Test MSE:</td>\n",
       "      <td>-2.133634</td>\n",
       "    </tr>\n",
       "    <tr>\n",
       "      <th>5</th>\n",
       "      <td>Test MAE:</td>\n",
       "      <td>-1.172027</td>\n",
       "    </tr>\n",
       "  </tbody>\n",
       "</table>\n",
       "</div>"
      ],
      "text/plain": [
       "        Metric     Score\n",
       "0   Train R²:   0.828729\n",
       "1  Train MSE:  -0.334529\n",
       "2  Train MAE:  -0.450738\n",
       "3    Test R²:  -0.105836\n",
       "4   Test MSE:  -2.133634\n",
       "5   Test MAE:  -1.172027"
      ]
     },
     "execution_count": 98,
     "metadata": {},
     "output_type": "execute_result"
    }
   ],
   "source": [
    "CVScores(all_rf)"
   ]
  },
  {
   "cell_type": "markdown",
   "metadata": {
    "_cell_guid": "a18c8339-ee27-4cb5-8961-d7255db0123c",
    "_uuid": "0c4646c4d0bdc10d59d80ccc012bba644bb3ce34"
   },
   "source": [
    "## Neural Network"
   ]
  },
  {
   "cell_type": "code",
   "execution_count": 113,
   "metadata": {
    "_cell_guid": "a30a1ffe-dfeb-4286-92b2-a1fbed818b42",
    "_uuid": "6301b5a49c255df0711eb8065cd2c54107780fb7"
   },
   "outputs": [],
   "source": [
    "parameters = {\n",
    "    'hidden_layer_sizes': ((10, ), (20, ), (10, 10)), \n",
    "    'activation':  ('identity', 'logistic', 'tanh', 'relu') ,\n",
    "    'solver': ('lbfgs', 'sgd', 'adam'),\n",
    "    'alpha': [0.0001, 0.001, 0.01, 0.1],\n",
    "    'batch_size': [50, 100, 200],\n",
    "    'learning_rate': ('constant', 'invscaling', 'adaptive')\n",
    "}\n",
    "scorers = ['r2', 'neg_mean_squared_error', 'neg_mean_absolute_error']\n",
    "cv_ = 5"
   ]
  },
  {
   "cell_type": "code",
   "execution_count": 116,
   "metadata": {},
   "outputs": [
    {
     "name": "stdout",
     "output_type": "stream",
     "text": [
      "Best parameters:  {'activation': 'relu', 'alpha': 0.1, 'batch_size': 200, 'hidden_layer_sizes': (20,), 'learning_rate': 'adaptive', 'solver': 'sgd'}\n"
     ]
    }
   ],
   "source": [
    "import warnings\n",
    "warnings.filterwarnings('ignore')\n",
    "\n",
    "all_mlp = GridSearchCV(MLPRegressor(), parameters, cv=cv_, scoring=scorers, refit='r2', n_jobs=4)\n",
    "_ = all_mlp.fit(X_train_sc, y_train_sc)\n",
    "print(\"Best parameters: \", all_mlp.best_params_)"
   ]
  },
  {
   "cell_type": "code",
   "execution_count": 117,
   "metadata": {},
   "outputs": [
    {
     "data": {
      "text/html": [
       "<div>\n",
       "<style>\n",
       "    .dataframe thead tr:only-child th {\n",
       "        text-align: right;\n",
       "    }\n",
       "\n",
       "    .dataframe thead th {\n",
       "        text-align: left;\n",
       "    }\n",
       "\n",
       "    .dataframe tbody tr th {\n",
       "        vertical-align: top;\n",
       "    }\n",
       "</style>\n",
       "<table border=\"1\" class=\"dataframe\">\n",
       "  <thead>\n",
       "    <tr style=\"text-align: right;\">\n",
       "      <th></th>\n",
       "      <th>Metric</th>\n",
       "      <th>Score</th>\n",
       "    </tr>\n",
       "  </thead>\n",
       "  <tbody>\n",
       "    <tr>\n",
       "      <th>0</th>\n",
       "      <td>Train R²:</td>\n",
       "      <td>0.067546</td>\n",
       "    </tr>\n",
       "    <tr>\n",
       "      <th>1</th>\n",
       "      <td>Train MSE:</td>\n",
       "      <td>-1.820153</td>\n",
       "    </tr>\n",
       "    <tr>\n",
       "      <th>2</th>\n",
       "      <td>Train MAE:</td>\n",
       "      <td>-1.087074</td>\n",
       "    </tr>\n",
       "    <tr>\n",
       "      <th>3</th>\n",
       "      <td>Test R²:</td>\n",
       "      <td>0.014495</td>\n",
       "    </tr>\n",
       "    <tr>\n",
       "      <th>4</th>\n",
       "      <td>Test MSE:</td>\n",
       "      <td>-1.915642</td>\n",
       "    </tr>\n",
       "    <tr>\n",
       "      <th>5</th>\n",
       "      <td>Test MAE:</td>\n",
       "      <td>-1.114355</td>\n",
       "    </tr>\n",
       "  </tbody>\n",
       "</table>\n",
       "</div>"
      ],
      "text/plain": [
       "        Metric     Score\n",
       "0   Train R²:   0.067546\n",
       "1  Train MSE:  -1.820153\n",
       "2  Train MAE:  -1.087074\n",
       "3    Test R²:   0.014495\n",
       "4   Test MSE:  -1.915642\n",
       "5   Test MAE:  -1.114355"
      ]
     },
     "execution_count": 117,
     "metadata": {},
     "output_type": "execute_result"
    }
   ],
   "source": [
    "CVScores(all_mlp)"
   ]
  },
  {
   "cell_type": "markdown",
   "metadata": {},
   "source": [
    "### Others"
   ]
  },
  {
   "cell_type": "code",
   "execution_count": 136,
   "metadata": {},
   "outputs": [
    {
     "name": "stdout",
     "output_type": "stream",
     "text": [
      "Best parameters:  {'n_estimators': 200}\n"
     ]
    }
   ],
   "source": [
    "from sklearn.ensemble import AdaBoostRegressor\n",
    "\n",
    "param_grid = {\n",
    "    \"n_estimators\": [100, 200]\n",
    "}\n",
    "\n",
    "ABC = AdaBoostRegressor(base_estimator=MLPRegressor())\n",
    "\n",
    "# run grid search\n",
    "grid_search_ABC = GridSearchCV(ABC, param_grid=param_grid, cv=cv_, scoring=scorers, refit='r2', n_jobs=-1)\n",
    "_ = grid_search_ABC.fit(X_train_sc, y_train_sc)\n",
    "print(\"Best parameters: \", grid_search_ABC.best_params_)"
   ]
  },
  {
   "cell_type": "code",
   "execution_count": 138,
   "metadata": {},
   "outputs": [
    {
     "data": {
      "text/html": [
       "<div>\n",
       "<style>\n",
       "    .dataframe thead tr:only-child th {\n",
       "        text-align: right;\n",
       "    }\n",
       "\n",
       "    .dataframe thead th {\n",
       "        text-align: left;\n",
       "    }\n",
       "\n",
       "    .dataframe tbody tr th {\n",
       "        vertical-align: top;\n",
       "    }\n",
       "</style>\n",
       "<table border=\"1\" class=\"dataframe\">\n",
       "  <thead>\n",
       "    <tr style=\"text-align: right;\">\n",
       "      <th></th>\n",
       "      <th>Metric</th>\n",
       "      <th>Score</th>\n",
       "    </tr>\n",
       "  </thead>\n",
       "  <tbody>\n",
       "    <tr>\n",
       "      <th>0</th>\n",
       "      <td>Train R²:</td>\n",
       "      <td>0.173946</td>\n",
       "    </tr>\n",
       "    <tr>\n",
       "      <th>1</th>\n",
       "      <td>Train MSE:</td>\n",
       "      <td>-1.613594</td>\n",
       "    </tr>\n",
       "    <tr>\n",
       "      <th>2</th>\n",
       "      <td>Train MAE:</td>\n",
       "      <td>-1.098549</td>\n",
       "    </tr>\n",
       "    <tr>\n",
       "      <th>3</th>\n",
       "      <td>Test R²:</td>\n",
       "      <td>-0.261452</td>\n",
       "    </tr>\n",
       "    <tr>\n",
       "      <th>4</th>\n",
       "      <td>Test MSE:</td>\n",
       "      <td>-2.442161</td>\n",
       "    </tr>\n",
       "    <tr>\n",
       "      <th>5</th>\n",
       "      <td>Test MAE:</td>\n",
       "      <td>-1.287506</td>\n",
       "    </tr>\n",
       "  </tbody>\n",
       "</table>\n",
       "</div>"
      ],
      "text/plain": [
       "        Metric     Score\n",
       "0   Train R²:   0.173946\n",
       "1  Train MSE:  -1.613594\n",
       "2  Train MAE:  -1.098549\n",
       "3    Test R²:  -0.261452\n",
       "4   Test MSE:  -2.442161\n",
       "5   Test MAE:  -1.287506"
      ]
     },
     "execution_count": 138,
     "metadata": {},
     "output_type": "execute_result"
    }
   ],
   "source": [
    "CVScores(grid_search_ABC)"
   ]
  },
  {
   "cell_type": "code",
   "execution_count": 137,
   "metadata": {},
   "outputs": [
    {
     "ename": "NameError",
     "evalue": "name 'Dec' is not defined",
     "output_type": "error",
     "traceback": [
      "\u001b[0;31m---------------------------------------------------------------------------\u001b[0m",
      "\u001b[0;31mNameError\u001b[0m                                 Traceback (most recent call last)",
      "\u001b[0;32m<ipython-input-137-a6279e1b5cbf>\u001b[0m in \u001b[0;36m<module>\u001b[0;34m()\u001b[0m\n\u001b[1;32m      7\u001b[0m }\n\u001b[1;32m      8\u001b[0m \u001b[0;34m\u001b[0m\u001b[0m\n\u001b[0;32m----> 9\u001b[0;31m \u001b[0mDTR\u001b[0m \u001b[0;34m=\u001b[0m \u001b[0mDec\u001b[0m\u001b[0;34m\u001b[0m\u001b[0m\n\u001b[0m\u001b[1;32m     10\u001b[0m \u001b[0mABC\u001b[0m \u001b[0;34m=\u001b[0m \u001b[0mAdaBoostRegressor\u001b[0m\u001b[0;34m(\u001b[0m\u001b[0mbase_estimator\u001b[0m\u001b[0;34m=\u001b[0m\u001b[0mDTR\u001b[0m\u001b[0;34m)\u001b[0m\u001b[0;34m\u001b[0m\u001b[0m\n\u001b[1;32m     11\u001b[0m \u001b[0;34m\u001b[0m\u001b[0m\n",
      "\u001b[0;31mNameError\u001b[0m: name 'Dec' is not defined"
     ]
    }
   ],
   "source": [
    "from sklearn.ensemble import AdaBoostRegressor\n",
    "\n",
    "param_grid = {\n",
    "    \"base_estimator__criterion\" : [\"mse\", \"mae\"],\n",
    "    \"base_estimator__splitter\" :   [\"best\", \"random\"],\n",
    "    \"n_estimators\": [100, 200]\n",
    "}\n",
    "\n",
    "DTR = DecisionTreeRegressor()\n",
    "ABC = AdaBoostRegressor(base_estimator=DTR)\n",
    "\n",
    "# run grid search\n",
    "grid_search_ABC = GridSearchCV(ABC, param_grid=param_grid, cv=cv_, scoring=scorers, refit='r2', n_jobs=-1)\n",
    "_ = grid_search_ABC.fit(X_train_sc, y_train_sc)\n",
    "print(\"Best parameters: \", grid_search_ABC.best_params_)"
   ]
  },
  {
   "cell_type": "code",
   "execution_count": 134,
   "metadata": {},
   "outputs": [
    {
     "name": "stdout",
     "output_type": "stream",
     "text": [
      "Best parameters:  {'criterion': 'mse', 'learning_rate': 0.001, 'loss': 'ls', 'max_depth': 30, 'n_estimators': 100}\n"
     ]
    }
   ],
   "source": [
    "from sklearn.ensemble import GradientBoostingRegressor\n",
    "\n",
    "parameters = {\n",
    "    'n_estimators': [50, 100],\n",
    "    'learning_rate' : [0.001, 0.01, 0.1],\n",
    "    'loss': ['ls', 'lad', 'huber', 'quantile'],\n",
    "    'max_depth': [10, 20, 30],\n",
    "    'criterion': ['friedman_mse', 'mse', 'mae']\n",
    "}\n",
    "\n",
    "\n",
    "est = GradientBoostingRegressor()\n",
    "gsv = GridSearchCV(est, parameters, cv=cv_, scoring=scorers, refit='r2', n_jobs=-1)\n",
    "_ = gsv.fit(X_train_sc, y_train_sc)\n",
    "print(\"Best parameters: \", gsv.best_params_)"
   ]
  },
  {
   "cell_type": "code",
   "execution_count": 135,
   "metadata": {},
   "outputs": [
    {
     "data": {
      "text/html": [
       "<div>\n",
       "<style>\n",
       "    .dataframe thead tr:only-child th {\n",
       "        text-align: right;\n",
       "    }\n",
       "\n",
       "    .dataframe thead th {\n",
       "        text-align: left;\n",
       "    }\n",
       "\n",
       "    .dataframe tbody tr th {\n",
       "        vertical-align: top;\n",
       "    }\n",
       "</style>\n",
       "<table border=\"1\" class=\"dataframe\">\n",
       "  <thead>\n",
       "    <tr style=\"text-align: right;\">\n",
       "      <th></th>\n",
       "      <th>Metric</th>\n",
       "      <th>Score</th>\n",
       "    </tr>\n",
       "  </thead>\n",
       "  <tbody>\n",
       "    <tr>\n",
       "      <th>0</th>\n",
       "      <td>Train R²:</td>\n",
       "      <td>0.180339</td>\n",
       "    </tr>\n",
       "    <tr>\n",
       "      <th>1</th>\n",
       "      <td>Train MSE:</td>\n",
       "      <td>-1.599595</td>\n",
       "    </tr>\n",
       "    <tr>\n",
       "      <th>2</th>\n",
       "      <td>Train MAE:</td>\n",
       "      <td>-1.048070</td>\n",
       "    </tr>\n",
       "    <tr>\n",
       "      <th>3</th>\n",
       "      <td>Test R²:</td>\n",
       "      <td>0.006620</td>\n",
       "    </tr>\n",
       "    <tr>\n",
       "      <th>4</th>\n",
       "      <td>Test MSE:</td>\n",
       "      <td>-1.933550</td>\n",
       "    </tr>\n",
       "    <tr>\n",
       "      <th>5</th>\n",
       "      <td>Test MAE:</td>\n",
       "      <td>-1.150953</td>\n",
       "    </tr>\n",
       "  </tbody>\n",
       "</table>\n",
       "</div>"
      ],
      "text/plain": [
       "        Metric     Score\n",
       "0   Train R²:   0.180339\n",
       "1  Train MSE:  -1.599595\n",
       "2  Train MAE:  -1.048070\n",
       "3    Test R²:   0.006620\n",
       "4   Test MSE:  -1.933550\n",
       "5   Test MAE:  -1.150953"
      ]
     },
     "execution_count": 135,
     "metadata": {},
     "output_type": "execute_result"
    }
   ],
   "source": [
    "CVScores(gsv)"
   ]
  },
  {
   "cell_type": "code",
   "execution_count": 143,
   "metadata": {},
   "outputs": [
    {
     "data": {
      "text/plain": [
       "ExtraTreesRegressor(bootstrap=False, criterion='mse', max_depth=100,\n",
       "          max_features='auto', max_leaf_nodes=None,\n",
       "          min_impurity_decrease=0.0, min_impurity_split=None,\n",
       "          min_samples_leaf=1, min_samples_split=2,\n",
       "          min_weight_fraction_leaf=0.0, n_estimators=10, n_jobs=1,\n",
       "          oob_score=False, random_state=None, verbose=0, warm_start=False)"
      ]
     },
     "execution_count": 143,
     "metadata": {},
     "output_type": "execute_result"
    }
   ],
   "source": [
    "from sklearn.ensemble import ExtraTreesRegressor\n",
    "\n",
    "ETR = ExtraTreesRegressor(n_estimators=10, max_depth=100)\n",
    "ETR.fit(X_train_sc, y_train_sc)"
   ]
  },
  {
   "cell_type": "code",
   "execution_count": 144,
   "metadata": {},
   "outputs": [
    {
     "data": {
      "text/plain": [
       "array([ 0.10911726,  0.09289497,  0.05691186,  0.08921214,  0.07069679,\n",
       "        0.07784874,  0.08935764,  0.07203849,  0.12026789,  0.09836067,\n",
       "        0.11830036,  0.00499319,  0.        ])"
      ]
     },
     "execution_count": 144,
     "metadata": {},
     "output_type": "execute_result"
    }
   ],
   "source": [
    "ETR.feature_importances_"
   ]
  },
  {
   "cell_type": "code",
   "execution_count": 145,
   "metadata": {},
   "outputs": [
    {
     "name": "stdout",
     "output_type": "stream",
     "text": [
      "Numero optimo de features : 9\n",
      "Scores:  [-0.41147789 -0.40499481 -0.48460246 -0.33226504 -0.27856126 -0.26800522\n",
      " -0.28926813 -0.30251659 -0.22889459 -0.28355002 -0.26811361 -0.27329445\n",
      " -0.2437    ]\n",
      "Ranking:  [1 1 3 1 1 1 1 2 1 1 1 4 5]\n"
     ]
    },
    {
     "data": {
      "image/png": "[encoded data removed]",
      "text/plain": [
       "<matplotlib.figure.Figure at 0x7faf946142b0>"
      ]
     },
     "metadata": {},
     "output_type": "display_data"
    }
   ],
   "source": [
    "from sklearn.feature_selection import RFECV\n",
    "\n",
    "ETR = ExtraTreesRegressor(n_estimators=10, max_depth=100)\n",
    "selector = RFECV(ETR, step=1, cv=5, scoring='r2')\n",
    "selector = selector.fit(X_train_sc, y_train_sc)\n",
    "\n",
    "print(\"Numero optimo de features : %d\" % selector.n_features_)\n",
    "print(\"Scores: \", selector.grid_scores_) # Puntaje de ajuste\n",
    "print(\"Ranking: \", selector.ranking_)\n",
    "\n",
    "# Plot number of features VS. cross-validation scores\n",
    "plt.figure(figsize=(10, 6))\n",
    "plt.xlabel(\"Number of features selected\")\n",
    "plt.ylabel(\"Cross validation score\")\n",
    "plt.plot(np.arange(1, 1 + len(selector.grid_scores_)), selector.grid_scores_)\n",
    "plt.grid(True)\n",
    "plt.show()"
   ]
  },
  {
   "cell_type": "code",
   "execution_count": 147,
   "metadata": {},
   "outputs": [
    {
     "name": "stdout",
     "output_type": "stream",
     "text": [
      "[ 0  1  3  4  5  6  8  9 10]\n"
     ]
    }
   ],
   "source": [
    "pos = np.argwhere(selector.support_).T[0]"
   ]
  },
  {
   "cell_type": "code",
   "execution_count": 149,
   "metadata": {},
   "outputs": [
    {
     "name": "stdout",
     "output_type": "stream",
     "text": [
      "XX\n",
      "MSE:  -2.52608416496\n",
      "MAE:  -1.23455416513\n",
      "R2:  -0.260237508721\n"
     ]
    }
   ],
   "source": [
    "XX_train_sc = X_train_sc.iloc[:, pos]\n",
    "etr_mse = cross_val_score(ETR, XX_train_sc, y_train_sc, cv=cv_, scoring='neg_mean_squared_error')\n",
    "etr_mae = cross_val_score(ETR, XX_train_sc, y_train_sc, cv=cv_, scoring='neg_mean_absolute_error')\n",
    "etr_r2 = cross_val_score(ETR, XX_train_sc, y_train_sc, cv=cv_, scoring='r2')\n",
    "\n",
    "print(\"XX\")\n",
    "print(\"MSE: \", etr_mse.mean())\n",
    "print(\"MAE: \", etr_mae.mean())\n",
    "print(\"R2: \", etr_r2.mean())"
   ]
  },
  {
   "cell_type": "code",
   "execution_count": 199,
   "metadata": {},
   "outputs": [],
   "source": [
    "from sklearn.decomposition import PCA\n",
    "\n",
    "PCA = PCA(n_components=8)\n",
    "XPCA = PCA.fit_transform(X_train_sc)"
   ]
  },
  {
   "cell_type": "code",
   "execution_count": 200,
   "metadata": {},
   "outputs": [
    {
     "name": "stdout",
     "output_type": "stream",
     "text": [
      "-0.187641758446\n"
     ]
    }
   ],
   "source": [
    "svr = SVR()\n",
    "asd = cross_val_score(svr, XPCA, y_train_sc, cv=cv_, scoring='r2')\n",
    "print(asd.mean())"
   ]
  },
  {
   "cell_type": "code",
   "execution_count": 185,
   "metadata": {
    "collapsed": true
   },
   "outputs": [],
   "source": [
    "from sklearn.decomposition import KernelPCA\n",
    "\n",
    "KPCA = KernelPCA(n_components=10, kernel='rbf')\n",
    "XKPCA = KPCA.fit_transform(X_train_sc)"
   ]
  },
  {
   "cell_type": "code",
   "execution_count": 186,
   "metadata": {},
   "outputs": [
    {
     "name": "stdout",
     "output_type": "stream",
     "text": [
      "-0.0221904283831\n"
     ]
    }
   ],
   "source": [
    "mlp = MLPRegressor()\n",
    "asd = cross_val_score(mlp, XKPCA, y_train_sc, cv=cv_, scoring='r2')\n",
    "print(asd.mean())"
   ]
  },
  {
   "cell_type": "code",
   "execution_count": 217,
   "metadata": {},
   "outputs": [
    {
     "data": {
      "text/plain": [
       "(517,)"
      ]
     },
     "execution_count": 217,
     "metadata": {},
     "output_type": "execute_result"
    }
   ],
   "source": [
    "svr = SVR()\n",
    "asd = cross_val_score(svr, XPCA, y_train_sc, cv=cv_, scoring='r2')\n",
    "print(asd.mean())"
   ]
  },
  {
   "cell_type": "code",
   "execution_count": 220,
   "metadata": {},
   "outputs": [
    {
     "name": "stdout",
     "output_type": "stream",
     "text": [
      "Best parameters:  {'n_estimators': 100}\n"
     ]
    }
   ],
   "source": [
    "from sklearn.ensemble import BaggingRegressor\n",
    "\n",
    "param_grid = {\n",
    "    \"n_estimators\": [100, 200]\n",
    "}\n",
    "\n",
    "BR = BaggingRegressor(base_estimator=MLPRegressor())\n",
    "\n",
    "# run grid search\n",
    "grid_search_BR = GridSearchCV(BR, param_grid=param_grid, cv=cv_, scoring=scorers, refit='r2', n_jobs=-1)\n",
    "_ = grid_search_BR.fit(X_train_sc, y_train_sc)\n",
    "print(\"Best parameters: \", grid_search_BR.best_params_)"
   ]
  },
  {
   "cell_type": "code",
   "execution_count": 221,
   "metadata": {},
   "outputs": [
    {
     "data": {
      "text/html": [
       "<div>\n",
       "<style>\n",
       "    .dataframe thead tr:only-child th {\n",
       "        text-align: right;\n",
       "    }\n",
       "\n",
       "    .dataframe thead th {\n",
       "        text-align: left;\n",
       "    }\n",
       "\n",
       "    .dataframe tbody tr th {\n",
       "        vertical-align: top;\n",
       "    }\n",
       "</style>\n",
       "<table border=\"1\" class=\"dataframe\">\n",
       "  <thead>\n",
       "    <tr style=\"text-align: right;\">\n",
       "      <th></th>\n",
       "      <th>Metric</th>\n",
       "      <th>Score</th>\n",
       "    </tr>\n",
       "  </thead>\n",
       "  <tbody>\n",
       "    <tr>\n",
       "      <th>0</th>\n",
       "      <td>Train R²:</td>\n",
       "      <td>0.170603</td>\n",
       "    </tr>\n",
       "    <tr>\n",
       "      <th>1</th>\n",
       "      <td>Train MSE:</td>\n",
       "      <td>-1.619212</td>\n",
       "    </tr>\n",
       "    <tr>\n",
       "      <th>2</th>\n",
       "      <td>Train MAE:</td>\n",
       "      <td>-1.030219</td>\n",
       "    </tr>\n",
       "    <tr>\n",
       "      <th>3</th>\n",
       "      <td>Test R²:</td>\n",
       "      <td>-0.068353</td>\n",
       "    </tr>\n",
       "    <tr>\n",
       "      <th>4</th>\n",
       "      <td>Test MSE:</td>\n",
       "      <td>-2.076392</td>\n",
       "    </tr>\n",
       "    <tr>\n",
       "      <th>5</th>\n",
       "      <td>Test MAE:</td>\n",
       "      <td>-1.157568</td>\n",
       "    </tr>\n",
       "  </tbody>\n",
       "</table>\n",
       "</div>"
      ],
      "text/plain": [
       "        Metric     Score\n",
       "0   Train R²:   0.170603\n",
       "1  Train MSE:  -1.619212\n",
       "2  Train MAE:  -1.030219\n",
       "3    Test R²:  -0.068353\n",
       "4   Test MSE:  -2.076392\n",
       "5   Test MAE:  -1.157568"
      ]
     },
     "execution_count": 221,
     "metadata": {},
     "output_type": "execute_result"
    }
   ],
   "source": [
    "CVScores(grid_search_BR)"
   ]
  },
  {
   "cell_type": "code",
   "execution_count": 228,
   "metadata": {},
   "outputs": [
    {
     "name": "stdout",
     "output_type": "stream",
     "text": [
      "-0.0745248385971\n"
     ]
    }
   ],
   "source": [
    "BE = ExtraTreesRegressor(n_estimators=100, max_depth=100, n_jobs=-1)\n",
    "BR = BaggingRegressor(base_estimator=BE, n_estimators=100, n_jobs=-1)\n",
    "asd = cross_val_score(BR, X_train_sc, y_train_sc, cv=cv_, scoring='r2')\n",
    "print(asd.mean())"
   ]
  },
  {
   "cell_type": "code",
   "execution_count": 238,
   "metadata": {},
   "outputs": [
    {
     "name": "stdout",
     "output_type": "stream",
     "text": [
      "-0.0226336569727\n"
     ]
    }
   ],
   "source": [
    "#BE = ExtraTreesRegressor(n_jobs=-1)\n",
    "BE = MLPRegressor(hidden_layer_sizes=(10, 5, 2))\n",
    "BR = BaggingRegressor(base_estimator=BE, n_estimators=100, n_jobs=-1)\n",
    "asd = cross_val_score(BR, X_train_sc, y_train_sc, cv=cv_, scoring='r2')\n",
    "print(asd.mean())"
   ]
  },
  {
   "cell_type": "code",
   "execution_count": 239,
   "metadata": {},
   "outputs": [
    {
     "ename": "RuntimeError",
     "evalue": "The classifier does not expose \"coef_\" or \"feature_importances_\" attributes",
     "output_type": "error",
     "traceback": [
      "\u001b[0;31m---------------------------------------------------------------------------\u001b[0m",
      "\u001b[0;31mRuntimeError\u001b[0m                              Traceback (most recent call last)",
      "\u001b[0;32m<ipython-input-239-e13ada636c4a>\u001b[0m in \u001b[0;36m<module>\u001b[0;34m()\u001b[0m\n\u001b[1;32m      6\u001b[0m \u001b[0mMLP\u001b[0m \u001b[0;34m=\u001b[0m \u001b[0mMLPRegressor\u001b[0m\u001b[0;34m(\u001b[0m\u001b[0mhidden_layer_sizes\u001b[0m\u001b[0;34m=\u001b[0m\u001b[0;34m(\u001b[0m\u001b[0;36m10\u001b[0m\u001b[0;34m,\u001b[0m \u001b[0;36m5\u001b[0m\u001b[0;34m,\u001b[0m \u001b[0;36m2\u001b[0m\u001b[0;34m)\u001b[0m\u001b[0;34m)\u001b[0m\u001b[0;34m\u001b[0m\u001b[0m\n\u001b[1;32m      7\u001b[0m \u001b[0mselector\u001b[0m \u001b[0;34m=\u001b[0m \u001b[0mRFECV\u001b[0m\u001b[0;34m(\u001b[0m\u001b[0mMLP\u001b[0m\u001b[0;34m,\u001b[0m \u001b[0mstep\u001b[0m\u001b[0;34m=\u001b[0m\u001b[0;36m1\u001b[0m\u001b[0;34m,\u001b[0m \u001b[0mcv\u001b[0m\u001b[0;34m=\u001b[0m\u001b[0;36m5\u001b[0m\u001b[0;34m,\u001b[0m \u001b[0mscoring\u001b[0m\u001b[0;34m=\u001b[0m\u001b[0;34m'r2'\u001b[0m\u001b[0;34m)\u001b[0m\u001b[0;34m\u001b[0m\u001b[0m\n\u001b[0;32m----> 8\u001b[0;31m \u001b[0mselector\u001b[0m \u001b[0;34m=\u001b[0m \u001b[0mselector\u001b[0m\u001b[0;34m.\u001b[0m\u001b[0mfit\u001b[0m\u001b[0;34m(\u001b[0m\u001b[0mX_train_sc\u001b[0m\u001b[0;34m,\u001b[0m \u001b[0my_train_sc\u001b[0m\u001b[0;34m)\u001b[0m\u001b[0;34m\u001b[0m\u001b[0m\n\u001b[0m\u001b[1;32m      9\u001b[0m \u001b[0;34m\u001b[0m\u001b[0m\n\u001b[1;32m     10\u001b[0m \u001b[0mprint\u001b[0m\u001b[0;34m(\u001b[0m\u001b[0;34m\"Numero optimo de features : %d\"\u001b[0m \u001b[0;34m%\u001b[0m \u001b[0mselector\u001b[0m\u001b[0;34m.\u001b[0m\u001b[0mn_features_\u001b[0m\u001b[0;34m)\u001b[0m\u001b[0;34m\u001b[0m\u001b[0m\n",
      "\u001b[0;32m~/anaconda3/lib/python3.6/site-packages/sklearn/feature_selection/rfe.py\u001b[0m in \u001b[0;36mfit\u001b[0;34m(self, X, y)\u001b[0m\n\u001b[1;32m    434\u001b[0m         scores = parallel(\n\u001b[1;32m    435\u001b[0m             \u001b[0mfunc\u001b[0m\u001b[0;34m(\u001b[0m\u001b[0mrfe\u001b[0m\u001b[0;34m,\u001b[0m \u001b[0mself\u001b[0m\u001b[0;34m.\u001b[0m\u001b[0mestimator\u001b[0m\u001b[0;34m,\u001b[0m \u001b[0mX\u001b[0m\u001b[0;34m,\u001b[0m \u001b[0my\u001b[0m\u001b[0;34m,\u001b[0m \u001b[0mtrain\u001b[0m\u001b[0;34m,\u001b[0m \u001b[0mtest\u001b[0m\u001b[0;34m,\u001b[0m \u001b[0mscorer\u001b[0m\u001b[0;34m)\u001b[0m\u001b[0;34m\u001b[0m\u001b[0m\n\u001b[0;32m--> 436\u001b[0;31m             for train, test in cv.split(X, y))\n\u001b[0m\u001b[1;32m    437\u001b[0m \u001b[0;34m\u001b[0m\u001b[0m\n\u001b[1;32m    438\u001b[0m         \u001b[0mscores\u001b[0m \u001b[0;34m=\u001b[0m \u001b[0mnp\u001b[0m\u001b[0;34m.\u001b[0m\u001b[0msum\u001b[0m\u001b[0;34m(\u001b[0m\u001b[0mscores\u001b[0m\u001b[0;34m,\u001b[0m \u001b[0maxis\u001b[0m\u001b[0;34m=\u001b[0m\u001b[0;36m0\u001b[0m\u001b[0;34m)\u001b[0m\u001b[0;34m\u001b[0m\u001b[0m\n",
      "\u001b[0;32m~/anaconda3/lib/python3.6/site-packages/sklearn/feature_selection/rfe.py\u001b[0m in \u001b[0;36m<genexpr>\u001b[0;34m(.0)\u001b[0m\n\u001b[1;32m    434\u001b[0m         scores = parallel(\n\u001b[1;32m    435\u001b[0m             \u001b[0mfunc\u001b[0m\u001b[0;34m(\u001b[0m\u001b[0mrfe\u001b[0m\u001b[0;34m,\u001b[0m \u001b[0mself\u001b[0m\u001b[0;34m.\u001b[0m\u001b[0mestimator\u001b[0m\u001b[0;34m,\u001b[0m \u001b[0mX\u001b[0m\u001b[0;34m,\u001b[0m \u001b[0my\u001b[0m\u001b[0;34m,\u001b[0m \u001b[0mtrain\u001b[0m\u001b[0;34m,\u001b[0m \u001b[0mtest\u001b[0m\u001b[0;34m,\u001b[0m \u001b[0mscorer\u001b[0m\u001b[0;34m)\u001b[0m\u001b[0;34m\u001b[0m\u001b[0m\n\u001b[0;32m--> 436\u001b[0;31m             for train, test in cv.split(X, y))\n\u001b[0m\u001b[1;32m    437\u001b[0m \u001b[0;34m\u001b[0m\u001b[0m\n\u001b[1;32m    438\u001b[0m         \u001b[0mscores\u001b[0m \u001b[0;34m=\u001b[0m \u001b[0mnp\u001b[0m\u001b[0;34m.\u001b[0m\u001b[0msum\u001b[0m\u001b[0;34m(\u001b[0m\u001b[0mscores\u001b[0m\u001b[0;34m,\u001b[0m \u001b[0maxis\u001b[0m\u001b[0;34m=\u001b[0m\u001b[0;36m0\u001b[0m\u001b[0;34m)\u001b[0m\u001b[0;34m\u001b[0m\u001b[0m\n",
      "\u001b[0;32m~/anaconda3/lib/python3.6/site-packages/sklearn/feature_selection/rfe.py\u001b[0m in \u001b[0;36m_rfe_single_fit\u001b[0;34m(rfe, estimator, X, y, train, test, scorer)\u001b[0m\n\u001b[1;32m     29\u001b[0m     \u001b[0mX_test\u001b[0m\u001b[0;34m,\u001b[0m \u001b[0my_test\u001b[0m \u001b[0;34m=\u001b[0m \u001b[0m_safe_split\u001b[0m\u001b[0;34m(\u001b[0m\u001b[0mestimator\u001b[0m\u001b[0;34m,\u001b[0m \u001b[0mX\u001b[0m\u001b[0;34m,\u001b[0m \u001b[0my\u001b[0m\u001b[0;34m,\u001b[0m \u001b[0mtest\u001b[0m\u001b[0;34m,\u001b[0m \u001b[0mtrain\u001b[0m\u001b[0;34m)\u001b[0m\u001b[0;34m\u001b[0m\u001b[0m\n\u001b[1;32m     30\u001b[0m     return rfe._fit(\n\u001b[0;32m---> 31\u001b[0;31m         \u001b[0mX_train\u001b[0m\u001b[0;34m,\u001b[0m \u001b[0my_train\u001b[0m\u001b[0;34m,\u001b[0m \u001b[0;32mlambda\u001b[0m \u001b[0mestimator\u001b[0m\u001b[0;34m,\u001b[0m \u001b[0mfeatures\u001b[0m\u001b[0;34m:\u001b[0m\u001b[0;34m\u001b[0m\u001b[0m\n\u001b[0m\u001b[1;32m     32\u001b[0m         _score(estimator, X_test[:, features], y_test, scorer)).scores_\n\u001b[1;32m     33\u001b[0m \u001b[0;34m\u001b[0m\u001b[0m\n",
      "\u001b[0;32m~/anaconda3/lib/python3.6/site-packages/sklearn/feature_selection/rfe.py\u001b[0m in \u001b[0;36m_fit\u001b[0;34m(self, X, y, step_score)\u001b[0m\n\u001b[1;32m    179\u001b[0m                 \u001b[0mcoefs\u001b[0m \u001b[0;34m=\u001b[0m \u001b[0mgetattr\u001b[0m\u001b[0;34m(\u001b[0m\u001b[0mestimator\u001b[0m\u001b[0;34m,\u001b[0m \u001b[0;34m'feature_importances_'\u001b[0m\u001b[0;34m,\u001b[0m \u001b[0;32mNone\u001b[0m\u001b[0;34m)\u001b[0m\u001b[0;34m\u001b[0m\u001b[0m\n\u001b[1;32m    180\u001b[0m             \u001b[0;32mif\u001b[0m \u001b[0mcoefs\u001b[0m \u001b[0;32mis\u001b[0m \u001b[0;32mNone\u001b[0m\u001b[0;34m:\u001b[0m\u001b[0;34m\u001b[0m\u001b[0m\n\u001b[0;32m--> 181\u001b[0;31m                 raise RuntimeError('The classifier does not expose '\n\u001b[0m\u001b[1;32m    182\u001b[0m                                    \u001b[0;34m'\"coef_\" or \"feature_importances_\" '\u001b[0m\u001b[0;34m\u001b[0m\u001b[0m\n\u001b[1;32m    183\u001b[0m                                    'attributes')\n",
      "\u001b[0;31mRuntimeError\u001b[0m: The classifier does not expose \"coef_\" or \"feature_importances_\" attributes"
     ]
    }
   ],
   "source": [
    "from sklearn.feature_selection import RFECV\n",
    "\n",
    "#BE = ExtraTreesRegressor(n_estimators=100, max_depth=100, n_jobs=-1)\n",
    "#BR = BaggingRegressor(base_estimator=BE, n_estimators=100, n_jobs=-1)\n",
    "#RFR = RandomForestRegressor(max_depth=100, n_jobs=-1)\n",
    "MLP = MLPRegressor(hidden_layer_sizes=(10, 5, 2))\n",
    "selector = RFECV(MLP, step=1, cv=5, scoring='r2')\n",
    "selector = selector.fit(X_train_sc, y_train_sc)\n",
    "\n",
    "print(\"Numero optimo de features : %d\" % selector.n_features_)\n",
    "print(\"Scores: \", selector.grid_scores_) # Puntaje de ajuste\n",
    "print(\"Ranking: \", selector.ranking_)\n",
    "\n",
    "# Plot number of features VS. cross-validation scores\n",
    "plt.figure(figsize=(10, 6))\n",
    "plt.xlabel(\"Number of features selected\")\n",
    "plt.ylabel(\"Cross validation score\")\n",
    "plt.plot(np.arange(1, 1 + len(selector.grid_scores_)), selector.grid_scores_)\n",
    "plt.grid(True)\n",
    "plt.show()"
   ]
  },
  {
   "cell_type": "code",
   "execution_count": 243,
   "metadata": {},
   "outputs": [
    {
     "name": "stdout",
     "output_type": "stream",
     "text": [
      "-0.0033752193049\n"
     ]
    }
   ],
   "source": [
    "mlp = MLPRegressor(\n",
    "    activation='relu', \n",
    "    alpha=0.1, \n",
    "    batch_size=200, \n",
    "    hidden_layer_sizes=(20,), \n",
    "    learning_rate='adaptive', \n",
    "    solver='sgd'\n",
    ")\n",
    "\n",
    "BR = BaggingRegressor(base_estimator=mlp, n_estimators=100, n_jobs=-1)\n",
    "asd = cross_val_score(BR, X_train_sc, y_train_sc, cv=cv_, scoring='r2')\n",
    "print(asd.mean())"
   ]
  },
  {
   "cell_type": "code",
   "execution_count": 249,
   "metadata": {
    "collapsed": true
   },
   "outputs": [],
   "source": [
    "lr = LinearRegression(fit_intercept=False)\n",
    "dtr = DecisionTreeRegressor()\n",
    "rfr = RandomForestRegressor()\n",
    "mlpr = MLPRegressor()\n",
    "svr = SVR()\n",
    "\n",
    "# Fit\n",
    "_ = lr.fit(X_train_sc, y_train_sc)\n",
    "_ = dtr.fit(X_train_sc, y_train_sc)\n",
    "_ = rfr.fit(X_train_sc, y_train_sc)\n",
    "_ = mlpr.fit(X_train_sc, y_train_sc)\n",
    "_ = svr.fit(X_train_sc, y_train_sc)"
   ]
  },
  {
   "cell_type": "code",
   "execution_count": 250,
   "metadata": {},
   "outputs": [],
   "source": [
    "# Predict\n",
    "lrX = lr.predict(X_train_sc)\n",
    "dtrX = dtr.predict(X_train_sc)\n",
    "rfrX = rfr.predict(X_train_sc)\n",
    "mlprX = mlpr.predict(X_train_sc)\n",
    "svrX = svr.predict(X_train_sc)"
   ]
  },
  {
   "cell_type": "code",
   "execution_count": 259,
   "metadata": {},
   "outputs": [],
   "source": [
    "new_X = np.array([lrX, dtrX, rfrX, mlprX, svrX]).T"
   ]
  },
  {
   "cell_type": "code",
   "execution_count": 261,
   "metadata": {},
   "outputs": [],
   "source": [
    "lrb = LinearRegression()\n",
    "_ = lrb.fit(new_X, y_train_sc)"
   ]
  },
  {
   "cell_type": "code",
   "execution_count": 262,
   "metadata": {},
   "outputs": [
    {
     "name": "stdout",
     "output_type": "stream",
     "text": [
      "R²:  0.992580209921\n",
      "MSE:  0.0144822466749\n",
      "RMSE:  0.12034220654\n",
      "MAE:  0.0189657782804\n"
     ]
    }
   ],
   "source": [
    "y_pred = lrb.predict(new_X)\n",
    "printScores(y_train_sc, y_pred)"
   ]
  },
  {
   "cell_type": "code",
   "execution_count": 275,
   "metadata": {},
   "outputs": [],
   "source": [
    "from sklearn.decomposition import PCA \n",
    "\n",
    "pca = PCA(n_components=10)\n",
    "XPCA = pca.fit_transform(X_train_sc)"
   ]
  },
  {
   "cell_type": "code",
   "execution_count": 292,
   "metadata": {
    "collapsed": true
   },
   "outputs": [],
   "source": [
    "from sklearn.decomposition import KernelPCA\n",
    "\n",
    "kpca = KernelPCA(n_components=3, kernel='rbf')\n",
    "XKPCA = kpca.fit_transform(X_train_sc)"
   ]
  },
  {
   "cell_type": "code",
   "execution_count": 306,
   "metadata": {},
   "outputs": [
    {
     "name": "stdout",
     "output_type": "stream",
     "text": [
      "Train score: 0.9518, Validation Score: -0.2594\n"
     ]
    }
   ],
   "source": [
    "from sklearn.model_selection import KFold\n",
    "\n",
    "ns_ = 5\n",
    "kf = KFold(n_splits=ns_)\n",
    "#Xm = pd.get_dummies(X_train_sc, columns=['month', 'day']).as_matrix()\n",
    "Xm = M_train_sc.as_matrix()\n",
    "ym = y_train_sc.as_matrix()\n",
    "\n",
    "train_score_cv = 0 \n",
    "val_score_cv = 0 \n",
    "\n",
    "for train, val in kf.split(Xm):   \n",
    "    lr = LinearRegression(fit_intercept=False)\n",
    "    dtr = DecisionTreeRegressor(max_depth=5)\n",
    "    rfr = RandomForestRegressor(max_depth=5)\n",
    "    mlpr = MLPRegressor(hidden_layer_sizes=(10,))\n",
    "    svr = SVR(kernel='rbf', C=0.001)\n",
    "    abr = AdaBoostRegressor(n_estimators=100)\n",
    "    gbr = GradientBoostingRegressor(n_estimators=100)\n",
    "    etr = ExtraTreesRegressor(n_estimators=100, max_depth=100, n_jobs=-1)\n",
    "\n",
    "    # Fit\n",
    "    _ = lr.fit(Xm[train], ym[train])\n",
    "    _ = dtr.fit(Xm[train], ym[train])\n",
    "    _ = rfr.fit(Xm[train], ym[train])\n",
    "    _ = mlpr.fit(Xm[train], ym[train])\n",
    "    _ = svr.fit(Xm[train], ym[train])\n",
    "    _ = abr.fit(Xm[train], ym[train])\n",
    "    _ = gbr.fit(Xm[train], ym[train])\n",
    "    _ = etr.fit(Xm[train], ym[train])\n",
    "    \n",
    "    # Training data\n",
    "    tr_lrX = lr.predict(Xm[train])\n",
    "    tr_dtrX = dtr.predict(Xm[train])\n",
    "    tr_rfrX = rfr.predict(Xm[train])\n",
    "    tr_mlprX = mlpr.predict(Xm[train])\n",
    "    tr_svrX = svr.predict(Xm[train])\n",
    "    tr_abrX = abr.predict(Xm[train])\n",
    "    tr_gbrX = gbr.predict(Xm[train])\n",
    "    tr_etrX = etr.predict(Xm[train])\n",
    "    \n",
    "    # Validation data\n",
    "    val_lrX = lr.predict(Xm[val])\n",
    "    val_dtrX = dtr.predict(Xm[val])\n",
    "    val_rfrX = rfr.predict(Xm[val])\n",
    "    val_mlprX = mlpr.predict(Xm[val])\n",
    "    val_svrX = svr.predict(Xm[val])\n",
    "    val_abrX = abr.predict(Xm[val])\n",
    "    val_gbrX = gbr.predict(Xm[val])\n",
    "    val_etrX = etr.predict(Xm[val])\n",
    "\n",
    "    trX = np.array([tr_lrX, tr_dtrX, tr_rfrX, tr_mlprX, tr_svrX, tr_abrX, tr_gbrX, tr_etrX]).T\n",
    "    valX = np.array([val_lrX, val_dtrX, val_rfrX, val_mlprX, val_svrX, val_abrX, val_gbrX, val_etrX]).T\n",
    "    \n",
    "    newScaler = StandardScaler()\n",
    "    trX_sc = newScaler.fit_transform(trX)\n",
    "    valX_sc = newScaler.transform(valX)\n",
    "    \n",
    "    lrb = LinearRegression()\n",
    "    _ = lrb.fit(trX_sc, ym[train])\n",
    "    \n",
    "    train_score_cv += lrb.score(trX_sc, ym[train])\n",
    "    y_pred = lrb.predict(valX_sc)\n",
    "    val_score_cv += r2_score(ym[val], y_pred)\n",
    "    \n",
    "    \n",
    "train_score = train_score_cv / ns_\n",
    "val_score = val_score_cv / ns_\n",
    "print(\"Train score: %.4f, Validation Score: %.4f\" % (train_score, val_score))"
   ]
  },
  {
   "cell_type": "code",
   "execution_count": 334,
   "metadata": {},
   "outputs": [
    {
     "name": "stdout",
     "output_type": "stream",
     "text": [
      "-0.00691269047702\n"
     ]
    }
   ],
   "source": [
    "mlpp = MLPRegressor(hidden_layer_sizes=(1000, 1000, 1000), activation='relu', solver='sgd')\n",
    "#BR = BaggingRegressor(base_estimator=BE, n_estimators=100, n_jobs=-1)\n",
    "asd = cross_val_score(mlpp, X_train_sc, y_train_sc, cv=cv_, scoring='r2')\n",
    "print(asd.mean())"
   ]
  },
  {
   "cell_type": "code",
   "execution_count": 330,
   "metadata": {},
   "outputs": [
    {
     "data": {
      "text/plain": [
       "MLPRegressor(activation='tanh', alpha=0.0001, batch_size='auto', beta_1=0.9,\n",
       "       beta_2=0.999, early_stopping=False, epsilon=1e-08,\n",
       "       hidden_layer_sizes=(400, 200, 200), learning_rate='constant',\n",
       "       learning_rate_init=0.001, max_iter=200, momentum=0.9,\n",
       "       nesterovs_momentum=True, power_t=0.5, random_state=None,\n",
       "       shuffle=True, solver='sgd', tol=0.0001, validation_fraction=0.1,\n",
       "       verbose=False, warm_start=False)"
      ]
     },
     "execution_count": 330,
     "metadata": {},
     "output_type": "execute_result"
    }
   ],
   "source": [
    "mlpp.fit(X_train_sc, y_train_sc)"
   ]
  },
  {
   "cell_type": "code",
   "execution_count": null,
   "metadata": {
    "collapsed": true
   },
   "outputs": [],
   "source": []
  }
 ],
 "metadata": {
  "kernelspec": {
   "display_name": "Python 3",
   "language": "python",
   "name": "python3"
  },
  "language_info": {
   "codemirror_mode": {
    "name": "ipython",
    "version": 3
   },
   "file_extension": ".py",
   "mimetype": "text/x-python",
   "name": "python",
   "nbconvert_exporter": "python",
   "pygments_lexer": "ipython3",
   "version": "3.6.2"
  }
 },
 "nbformat": 4,
 "nbformat_minor": 1
}
