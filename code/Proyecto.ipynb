{
 "cells": [
  {
   "cell_type": "markdown",
   "metadata": {
    "_cell_guid": "33578605-1bb0-45ef-936e-20e63165c491",
    "_uuid": "f97ed48e0f06e83268636c2780b4ab8b70181852"
   },
   "source": [
    "# Proyecto Máquinas de Aprendizaje\n",
    "## Predicción de Incendios Forestales utilizando técnicas de Máquinas de Aprendizaje\n",
    "### Daniel San Martín"
   ]
  },
  {
   "cell_type": "markdown",
   "metadata": {
    "_cell_guid": "82c5e982-1bac-4c51-86e8-cacb772d87c5",
    "_uuid": "3c229d83511e68798cf23c86495451834908dff2"
   },
   "source": [
    "Este proyecto tiene como objetivo analizar el trabajo desarrollado en el artículo \"**A Data Mining Approach to Predict Forest Fires using Meteorological Data**\" de Paulo Cortez y Aníbal Morais. Para esto se realiza una comparación, análisis y propuesta de modelos sobre el trabajo desarrollado por los autores mencionados."
   ]
  },
  {
   "cell_type": "code",
   "execution_count": 1,
   "metadata": {
    "_cell_guid": "24d06e29-3f04-4685-bd8f-a77ec621c7e1",
    "_uuid": "d52126e30b286e24c03ab020f68437e8488750b9",
    "collapsed": true
   },
   "outputs": [],
   "source": [
    "# Load libraries\n",
    "import numpy as np # linear algebra\n",
    "import pandas as pd # data manipulation\n",
    "\n",
    "# Models\n",
    "from sklearn.linear_model import LinearRegression as LR\n",
    "from sklearn.tree import DecisionTreeRegressor as DTR\n",
    "from sklearn.ensemble import AdaBoostRegressor as ABR, BaggingRegressor as BR, \\\n",
    "    ExtraTreesRegressor as ETR, GradientBoostingRegressor as GBR, RandomForestRegressor as RFR \n",
    "from sklearn.neural_network import MLPRegressor as MLPR\n",
    "from sklearn.svm import SVR\n",
    "\n",
    "# Tools \n",
    "from sklearn.preprocessing import MinMaxScaler, StandardScaler # data pre-processing\n",
    "from sklearn.metrics import mean_squared_error, mean_absolute_error, r2_score # regression metrics\n",
    "from sklearn.model_selection import train_test_split, cross_val_score, GridSearchCV # tools\n",
    "from sklearn.feature_selection import RFECV\n",
    "from sklearn.externals import joblib # to save models\n",
    "from sklearn.utils import shuffle\n",
    "import matplotlib.pyplot as plt # plots\n",
    "import pandas.plotting as pdplt\n",
    "\n",
    "import warnings\n",
    "warnings.filterwarnings('ignore')\n",
    "\n",
    "seed = 42\n",
    "np.random.seed(seed)"
   ]
  },
  {
   "cell_type": "markdown",
   "metadata": {
    "_cell_guid": "46f07fc1-b219-45a7-bdda-34c3c895b252",
    "_uuid": "7c8090e8bf8279dd94cccc1608b8146d7fb01630"
   },
   "source": [
    "## Pre-procesamiento de datos\n",
    "\n",
    "Los datos utilizados en este trabajo fueron extraidos del parque natural de Montesinho, en Trás-os-Montes región del noreste de Portugal, y contienen información sobre las áreas de terreno quemada en episodios de incendios entre enero del 2000 y diciembre del 2003."
   ]
  },
  {
   "cell_type": "code",
   "execution_count": 2,
   "metadata": {
    "_cell_guid": "6f68b8aa-293b-4efb-8f2e-4fd5724efe70",
    "_uuid": "3faf2304dc88c0ccef4a16adc0a6eb3e834d4c58",
    "scrolled": false
   },
   "outputs": [
    {
     "name": "stdout",
     "output_type": "stream",
     "text": [
      "Shape:  (517, 13)\n",
      "<class 'pandas.core.frame.DataFrame'>\n",
      "RangeIndex: 517 entries, 0 to 516\n",
      "Data columns (total 13 columns):\n",
      "X        517 non-null int64\n",
      "Y        517 non-null int64\n",
      "month    517 non-null int64\n",
      "day      517 non-null int64\n",
      "FFMC     517 non-null float64\n",
      "DMC      517 non-null float64\n",
      "DC       517 non-null float64\n",
      "ISI      517 non-null float64\n",
      "temp     517 non-null float64\n",
      "RH       517 non-null int64\n",
      "wind     517 non-null float64\n",
      "rain     517 non-null float64\n",
      "area     517 non-null float64\n",
      "dtypes: float64(8), int64(5)\n",
      "memory usage: 52.6 KB\n"
     ]
    },
    {
     "data": {
      "text/html": [
       "<div>\n",
       "<style>\n",
       "    .dataframe thead tr:only-child th {\n",
       "        text-align: right;\n",
       "    }\n",
       "\n",
       "    .dataframe thead th {\n",
       "        text-align: left;\n",
       "    }\n",
       "\n",
       "    .dataframe tbody tr th {\n",
       "        vertical-align: top;\n",
       "    }\n",
       "</style>\n",
       "<table border=\"1\" class=\"dataframe\">\n",
       "  <thead>\n",
       "    <tr style=\"text-align: right;\">\n",
       "      <th></th>\n",
       "      <th>X</th>\n",
       "      <th>Y</th>\n",
       "      <th>month</th>\n",
       "      <th>day</th>\n",
       "      <th>FFMC</th>\n",
       "      <th>DMC</th>\n",
       "      <th>DC</th>\n",
       "      <th>ISI</th>\n",
       "      <th>temp</th>\n",
       "      <th>RH</th>\n",
       "      <th>wind</th>\n",
       "      <th>rain</th>\n",
       "      <th>area</th>\n",
       "    </tr>\n",
       "  </thead>\n",
       "  <tbody>\n",
       "    <tr>\n",
       "      <th>count</th>\n",
       "      <td>517.000000</td>\n",
       "      <td>517.000000</td>\n",
       "      <td>517.000000</td>\n",
       "      <td>517.000000</td>\n",
       "      <td>517.000000</td>\n",
       "      <td>517.000000</td>\n",
       "      <td>517.000000</td>\n",
       "      <td>517.000000</td>\n",
       "      <td>517.000000</td>\n",
       "      <td>517.000000</td>\n",
       "      <td>517.000000</td>\n",
       "      <td>517.000000</td>\n",
       "      <td>517.000000</td>\n",
       "    </tr>\n",
       "    <tr>\n",
       "      <th>mean</th>\n",
       "      <td>4.669246</td>\n",
       "      <td>4.299807</td>\n",
       "      <td>7.475822</td>\n",
       "      <td>4.259188</td>\n",
       "      <td>90.644681</td>\n",
       "      <td>110.872340</td>\n",
       "      <td>547.940039</td>\n",
       "      <td>9.021663</td>\n",
       "      <td>18.889168</td>\n",
       "      <td>44.288201</td>\n",
       "      <td>4.017602</td>\n",
       "      <td>0.021663</td>\n",
       "      <td>12.847292</td>\n",
       "    </tr>\n",
       "    <tr>\n",
       "      <th>std</th>\n",
       "      <td>2.313778</td>\n",
       "      <td>1.229900</td>\n",
       "      <td>2.275990</td>\n",
       "      <td>2.072929</td>\n",
       "      <td>5.520111</td>\n",
       "      <td>64.046482</td>\n",
       "      <td>248.066192</td>\n",
       "      <td>4.559477</td>\n",
       "      <td>5.806625</td>\n",
       "      <td>16.317469</td>\n",
       "      <td>1.791653</td>\n",
       "      <td>0.295959</td>\n",
       "      <td>63.655818</td>\n",
       "    </tr>\n",
       "    <tr>\n",
       "      <th>min</th>\n",
       "      <td>1.000000</td>\n",
       "      <td>2.000000</td>\n",
       "      <td>1.000000</td>\n",
       "      <td>1.000000</td>\n",
       "      <td>18.700000</td>\n",
       "      <td>1.100000</td>\n",
       "      <td>7.900000</td>\n",
       "      <td>0.000000</td>\n",
       "      <td>2.200000</td>\n",
       "      <td>15.000000</td>\n",
       "      <td>0.400000</td>\n",
       "      <td>0.000000</td>\n",
       "      <td>0.000000</td>\n",
       "    </tr>\n",
       "    <tr>\n",
       "      <th>25%</th>\n",
       "      <td>3.000000</td>\n",
       "      <td>4.000000</td>\n",
       "      <td>7.000000</td>\n",
       "      <td>2.000000</td>\n",
       "      <td>90.200000</td>\n",
       "      <td>68.600000</td>\n",
       "      <td>437.700000</td>\n",
       "      <td>6.500000</td>\n",
       "      <td>15.500000</td>\n",
       "      <td>33.000000</td>\n",
       "      <td>2.700000</td>\n",
       "      <td>0.000000</td>\n",
       "      <td>0.000000</td>\n",
       "    </tr>\n",
       "    <tr>\n",
       "      <th>50%</th>\n",
       "      <td>4.000000</td>\n",
       "      <td>4.000000</td>\n",
       "      <td>8.000000</td>\n",
       "      <td>5.000000</td>\n",
       "      <td>91.600000</td>\n",
       "      <td>108.300000</td>\n",
       "      <td>664.200000</td>\n",
       "      <td>8.400000</td>\n",
       "      <td>19.300000</td>\n",
       "      <td>42.000000</td>\n",
       "      <td>4.000000</td>\n",
       "      <td>0.000000</td>\n",
       "      <td>0.520000</td>\n",
       "    </tr>\n",
       "    <tr>\n",
       "      <th>75%</th>\n",
       "      <td>7.000000</td>\n",
       "      <td>5.000000</td>\n",
       "      <td>9.000000</td>\n",
       "      <td>6.000000</td>\n",
       "      <td>92.900000</td>\n",
       "      <td>142.400000</td>\n",
       "      <td>713.900000</td>\n",
       "      <td>10.800000</td>\n",
       "      <td>22.800000</td>\n",
       "      <td>53.000000</td>\n",
       "      <td>4.900000</td>\n",
       "      <td>0.000000</td>\n",
       "      <td>6.570000</td>\n",
       "    </tr>\n",
       "    <tr>\n",
       "      <th>max</th>\n",
       "      <td>9.000000</td>\n",
       "      <td>9.000000</td>\n",
       "      <td>12.000000</td>\n",
       "      <td>7.000000</td>\n",
       "      <td>96.200000</td>\n",
       "      <td>291.300000</td>\n",
       "      <td>860.600000</td>\n",
       "      <td>56.100000</td>\n",
       "      <td>33.300000</td>\n",
       "      <td>100.000000</td>\n",
       "      <td>9.400000</td>\n",
       "      <td>6.400000</td>\n",
       "      <td>1090.840000</td>\n",
       "    </tr>\n",
       "  </tbody>\n",
       "</table>\n",
       "</div>"
      ],
      "text/plain": [
       "                X           Y       month         day        FFMC         DMC  \\\n",
       "count  517.000000  517.000000  517.000000  517.000000  517.000000  517.000000   \n",
       "mean     4.669246    4.299807    7.475822    4.259188   90.644681  110.872340   \n",
       "std      2.313778    1.229900    2.275990    2.072929    5.520111   64.046482   \n",
       "min      1.000000    2.000000    1.000000    1.000000   18.700000    1.100000   \n",
       "25%      3.000000    4.000000    7.000000    2.000000   90.200000   68.600000   \n",
       "50%      4.000000    4.000000    8.000000    5.000000   91.600000  108.300000   \n",
       "75%      7.000000    5.000000    9.000000    6.000000   92.900000  142.400000   \n",
       "max      9.000000    9.000000   12.000000    7.000000   96.200000  291.300000   \n",
       "\n",
       "               DC         ISI        temp          RH        wind        rain  \\\n",
       "count  517.000000  517.000000  517.000000  517.000000  517.000000  517.000000   \n",
       "mean   547.940039    9.021663   18.889168   44.288201    4.017602    0.021663   \n",
       "std    248.066192    4.559477    5.806625   16.317469    1.791653    0.295959   \n",
       "min      7.900000    0.000000    2.200000   15.000000    0.400000    0.000000   \n",
       "25%    437.700000    6.500000   15.500000   33.000000    2.700000    0.000000   \n",
       "50%    664.200000    8.400000   19.300000   42.000000    4.000000    0.000000   \n",
       "75%    713.900000   10.800000   22.800000   53.000000    4.900000    0.000000   \n",
       "max    860.600000   56.100000   33.300000  100.000000    9.400000    6.400000   \n",
       "\n",
       "              area  \n",
       "count   517.000000  \n",
       "mean     12.847292  \n",
       "std      63.655818  \n",
       "min       0.000000  \n",
       "25%       0.000000  \n",
       "50%       0.520000  \n",
       "75%       6.570000  \n",
       "max    1090.840000  "
      ]
     },
     "execution_count": 2,
     "metadata": {},
     "output_type": "execute_result"
    }
   ],
   "source": [
    "# Load data\n",
    "df = pd.read_csv(\"./data/forestfires.csv\", sep = \",\",header = 0)\n",
    "\n",
    "# Categorize month and days\n",
    "df.month.replace(('jan','feb','mar','apr','may','jun','jul','aug','sep','oct','nov','dec'),(1,2,3,4,5,6,7,8,9,10,11,12), inplace=True)\n",
    "df.day.replace(('mon','tue','wed','thu','fri','sat','sun'),(1,2,3,4,5,6,7), inplace=True)\n",
    "\n",
    "# Data information\n",
    "print(\"Shape: \", df.shape)\n",
    "df.info()\n",
    "df.describe()"
   ]
  },
  {
   "cell_type": "markdown",
   "metadata": {
    "_cell_guid": "030795b4-5cb2-4f01-99f7-026acccb3871",
    "_uuid": "aaf89adb028c1074764cd4b8369deca8378874bf"
   },
   "source": [
    "Notamos que el conjunto de datos posee un total de **517** registros con **12** atributos más la variable dependiente, en este caso el área quemada. Los datos contenidos corresponden a: \n",
    "1. Datos espaciales: mapeo del terreno a coordenadas $x$ e $y$.\n",
    "* Datos temporales: día y mes del año.\n",
    "* Datos del sistema FWI: códigos asociados al material y cantidad de combustible, además de un índice para evaluar la velocidad del fuego.\n",
    "* Datos meteorológicos: temperatura (°C), humedad relativa (%), velocidad del viento (km/hr) y precipitaciones en (mm/m²).\n",
    "\n",
    "El área, la variable dependiente, se encuentra expresada en hectáreas (ha).\n",
    "\n",
    "<!--Además, los autores proponene 4 configuraciones de características para desarrollar los modelos:\n",
    "1. **STFWI** utilizando los datos espaciales, temporales y FWI.\n",
    "* **STM** utilizando los datos espaciales, temporales y meteorológicos.\n",
    "* **FWI**  utilizando solo los datos de este sistema.\n",
    "* **M** utilizando los datos meteorológicos.\n",
    "\n",
    "A modo de comparación, se utilizarán de igual forma los datos \"crudos\".  Para mejorar la capacidad del modelo se utiliza la categorización utilizando la estrategia *1-of-C*.-->"
   ]
  },
  {
   "cell_type": "code",
   "execution_count": 3,
   "metadata": {
    "_cell_guid": "cafeb507-840e-4035-8ac3-fcd42a86fed3",
    "_uuid": "62d4db78d701d1c1bed4c5d278ca0df58fa38f0d"
   },
   "outputs": [
    {
     "data": {
      "image/png": "[encoded data removed]",
      "text/plain": [
       "<matplotlib.figure.Figure at 0x7f85f0375518>"
      ]
     },
     "metadata": {},
     "output_type": "display_data"
    }
   ],
   "source": [
    "df.hist(figsize=(12, 10))\n",
    "plt.show()"
   ]
  },
  {
   "cell_type": "markdown",
   "metadata": {},
   "source": [
    "De los histogramas podemos notar que la variable independiente tiene muchos valores cercanos a $0$, en comparación a los otros, lo que podría dificultar la predicción de estos. Además, de la tabla anterior, podemos ver la diferencia de escala de estos valores que también podría influir considerablemente en el problema."
   ]
  },
  {
   "cell_type": "code",
   "execution_count": 4,
   "metadata": {
    "collapsed": true
   },
   "outputs": [],
   "source": [
    "def plot_corr(df, size=10):\n",
    "    corr = df.corr()\n",
    "    fig, ax = plt.subplots(figsize=(size, size))\n",
    "    mat = ax.matshow(corr)\n",
    "    plt.title(\"Correlation Matrix\")\n",
    "    plt.xticks(range(len(corr.columns)), corr.columns)\n",
    "    plt.yticks(range(len(corr.columns)), corr.columns)\n",
    "    plt.colorbar(mat)\n",
    "    plt.show()"
   ]
  },
  {
   "cell_type": "code",
   "execution_count": 5,
   "metadata": {},
   "outputs": [
    {
     "data": {
      "text/html": [
       "<div>\n",
       "<style>\n",
       "    .dataframe thead tr:only-child th {\n",
       "        text-align: right;\n",
       "    }\n",
       "\n",
       "    .dataframe thead th {\n",
       "        text-align: left;\n",
       "    }\n",
       "\n",
       "    .dataframe tbody tr th {\n",
       "        vertical-align: top;\n",
       "    }\n",
       "</style>\n",
       "<table border=\"1\" class=\"dataframe\">\n",
       "  <thead>\n",
       "    <tr style=\"text-align: right;\">\n",
       "      <th></th>\n",
       "      <th>X</th>\n",
       "      <th>Y</th>\n",
       "      <th>month</th>\n",
       "      <th>day</th>\n",
       "      <th>FFMC</th>\n",
       "      <th>DMC</th>\n",
       "      <th>DC</th>\n",
       "      <th>ISI</th>\n",
       "      <th>temp</th>\n",
       "      <th>RH</th>\n",
       "      <th>wind</th>\n",
       "      <th>rain</th>\n",
       "      <th>area</th>\n",
       "    </tr>\n",
       "  </thead>\n",
       "  <tbody>\n",
       "    <tr>\n",
       "      <th>X</th>\n",
       "      <td>1.000000</td>\n",
       "      <td>0.539548</td>\n",
       "      <td>-0.065003</td>\n",
       "      <td>-0.024922</td>\n",
       "      <td>-0.021039</td>\n",
       "      <td>-0.048384</td>\n",
       "      <td>-0.085916</td>\n",
       "      <td>0.006210</td>\n",
       "      <td>-0.051258</td>\n",
       "      <td>0.085223</td>\n",
       "      <td>0.018798</td>\n",
       "      <td>0.065387</td>\n",
       "      <td>0.063385</td>\n",
       "    </tr>\n",
       "    <tr>\n",
       "      <th>Y</th>\n",
       "      <td>0.539548</td>\n",
       "      <td>1.000000</td>\n",
       "      <td>-0.066292</td>\n",
       "      <td>-0.005453</td>\n",
       "      <td>-0.046308</td>\n",
       "      <td>0.007782</td>\n",
       "      <td>-0.101178</td>\n",
       "      <td>-0.024488</td>\n",
       "      <td>-0.024103</td>\n",
       "      <td>0.062221</td>\n",
       "      <td>-0.020341</td>\n",
       "      <td>0.033234</td>\n",
       "      <td>0.044873</td>\n",
       "    </tr>\n",
       "    <tr>\n",
       "      <th>month</th>\n",
       "      <td>-0.065003</td>\n",
       "      <td>-0.066292</td>\n",
       "      <td>1.000000</td>\n",
       "      <td>-0.050837</td>\n",
       "      <td>0.291477</td>\n",
       "      <td>0.466645</td>\n",
       "      <td>0.868698</td>\n",
       "      <td>0.186597</td>\n",
       "      <td>0.368842</td>\n",
       "      <td>-0.095280</td>\n",
       "      <td>-0.086368</td>\n",
       "      <td>0.013438</td>\n",
       "      <td>0.056496</td>\n",
       "    </tr>\n",
       "    <tr>\n",
       "      <th>day</th>\n",
       "      <td>-0.024922</td>\n",
       "      <td>-0.005453</td>\n",
       "      <td>-0.050837</td>\n",
       "      <td>1.000000</td>\n",
       "      <td>-0.041068</td>\n",
       "      <td>0.062870</td>\n",
       "      <td>0.000105</td>\n",
       "      <td>0.032909</td>\n",
       "      <td>0.052190</td>\n",
       "      <td>0.092151</td>\n",
       "      <td>0.032478</td>\n",
       "      <td>-0.048340</td>\n",
       "      <td>0.023226</td>\n",
       "    </tr>\n",
       "    <tr>\n",
       "      <th>FFMC</th>\n",
       "      <td>-0.021039</td>\n",
       "      <td>-0.046308</td>\n",
       "      <td>0.291477</td>\n",
       "      <td>-0.041068</td>\n",
       "      <td>1.000000</td>\n",
       "      <td>0.382619</td>\n",
       "      <td>0.330512</td>\n",
       "      <td>0.531805</td>\n",
       "      <td>0.431532</td>\n",
       "      <td>-0.300995</td>\n",
       "      <td>-0.028485</td>\n",
       "      <td>0.056702</td>\n",
       "      <td>0.040122</td>\n",
       "    </tr>\n",
       "    <tr>\n",
       "      <th>DMC</th>\n",
       "      <td>-0.048384</td>\n",
       "      <td>0.007782</td>\n",
       "      <td>0.466645</td>\n",
       "      <td>0.062870</td>\n",
       "      <td>0.382619</td>\n",
       "      <td>1.000000</td>\n",
       "      <td>0.682192</td>\n",
       "      <td>0.305128</td>\n",
       "      <td>0.469594</td>\n",
       "      <td>0.073795</td>\n",
       "      <td>-0.105342</td>\n",
       "      <td>0.074790</td>\n",
       "      <td>0.072994</td>\n",
       "    </tr>\n",
       "    <tr>\n",
       "      <th>DC</th>\n",
       "      <td>-0.085916</td>\n",
       "      <td>-0.101178</td>\n",
       "      <td>0.868698</td>\n",
       "      <td>0.000105</td>\n",
       "      <td>0.330512</td>\n",
       "      <td>0.682192</td>\n",
       "      <td>1.000000</td>\n",
       "      <td>0.229154</td>\n",
       "      <td>0.496208</td>\n",
       "      <td>-0.039192</td>\n",
       "      <td>-0.203466</td>\n",
       "      <td>0.035861</td>\n",
       "      <td>0.049383</td>\n",
       "    </tr>\n",
       "    <tr>\n",
       "      <th>ISI</th>\n",
       "      <td>0.006210</td>\n",
       "      <td>-0.024488</td>\n",
       "      <td>0.186597</td>\n",
       "      <td>0.032909</td>\n",
       "      <td>0.531805</td>\n",
       "      <td>0.305128</td>\n",
       "      <td>0.229154</td>\n",
       "      <td>1.000000</td>\n",
       "      <td>0.394287</td>\n",
       "      <td>-0.132517</td>\n",
       "      <td>0.106826</td>\n",
       "      <td>0.067668</td>\n",
       "      <td>0.008258</td>\n",
       "    </tr>\n",
       "    <tr>\n",
       "      <th>temp</th>\n",
       "      <td>-0.051258</td>\n",
       "      <td>-0.024103</td>\n",
       "      <td>0.368842</td>\n",
       "      <td>0.052190</td>\n",
       "      <td>0.431532</td>\n",
       "      <td>0.469594</td>\n",
       "      <td>0.496208</td>\n",
       "      <td>0.394287</td>\n",
       "      <td>1.000000</td>\n",
       "      <td>-0.527390</td>\n",
       "      <td>-0.227116</td>\n",
       "      <td>0.069491</td>\n",
       "      <td>0.097844</td>\n",
       "    </tr>\n",
       "    <tr>\n",
       "      <th>RH</th>\n",
       "      <td>0.085223</td>\n",
       "      <td>0.062221</td>\n",
       "      <td>-0.095280</td>\n",
       "      <td>0.092151</td>\n",
       "      <td>-0.300995</td>\n",
       "      <td>0.073795</td>\n",
       "      <td>-0.039192</td>\n",
       "      <td>-0.132517</td>\n",
       "      <td>-0.527390</td>\n",
       "      <td>1.000000</td>\n",
       "      <td>0.069410</td>\n",
       "      <td>0.099751</td>\n",
       "      <td>-0.075519</td>\n",
       "    </tr>\n",
       "    <tr>\n",
       "      <th>wind</th>\n",
       "      <td>0.018798</td>\n",
       "      <td>-0.020341</td>\n",
       "      <td>-0.086368</td>\n",
       "      <td>0.032478</td>\n",
       "      <td>-0.028485</td>\n",
       "      <td>-0.105342</td>\n",
       "      <td>-0.203466</td>\n",
       "      <td>0.106826</td>\n",
       "      <td>-0.227116</td>\n",
       "      <td>0.069410</td>\n",
       "      <td>1.000000</td>\n",
       "      <td>0.061119</td>\n",
       "      <td>0.012317</td>\n",
       "    </tr>\n",
       "    <tr>\n",
       "      <th>rain</th>\n",
       "      <td>0.065387</td>\n",
       "      <td>0.033234</td>\n",
       "      <td>0.013438</td>\n",
       "      <td>-0.048340</td>\n",
       "      <td>0.056702</td>\n",
       "      <td>0.074790</td>\n",
       "      <td>0.035861</td>\n",
       "      <td>0.067668</td>\n",
       "      <td>0.069491</td>\n",
       "      <td>0.099751</td>\n",
       "      <td>0.061119</td>\n",
       "      <td>1.000000</td>\n",
       "      <td>-0.007366</td>\n",
       "    </tr>\n",
       "    <tr>\n",
       "      <th>area</th>\n",
       "      <td>0.063385</td>\n",
       "      <td>0.044873</td>\n",
       "      <td>0.056496</td>\n",
       "      <td>0.023226</td>\n",
       "      <td>0.040122</td>\n",
       "      <td>0.072994</td>\n",
       "      <td>0.049383</td>\n",
       "      <td>0.008258</td>\n",
       "      <td>0.097844</td>\n",
       "      <td>-0.075519</td>\n",
       "      <td>0.012317</td>\n",
       "      <td>-0.007366</td>\n",
       "      <td>1.000000</td>\n",
       "    </tr>\n",
       "  </tbody>\n",
       "</table>\n",
       "</div>"
      ],
      "text/plain": [
       "              X         Y     month       day      FFMC       DMC        DC  \\\n",
       "X      1.000000  0.539548 -0.065003 -0.024922 -0.021039 -0.048384 -0.085916   \n",
       "Y      0.539548  1.000000 -0.066292 -0.005453 -0.046308  0.007782 -0.101178   \n",
       "month -0.065003 -0.066292  1.000000 -0.050837  0.291477  0.466645  0.868698   \n",
       "day   -0.024922 -0.005453 -0.050837  1.000000 -0.041068  0.062870  0.000105   \n",
       "FFMC  -0.021039 -0.046308  0.291477 -0.041068  1.000000  0.382619  0.330512   \n",
       "DMC   -0.048384  0.007782  0.466645  0.062870  0.382619  1.000000  0.682192   \n",
       "DC    -0.085916 -0.101178  0.868698  0.000105  0.330512  0.682192  1.000000   \n",
       "ISI    0.006210 -0.024488  0.186597  0.032909  0.531805  0.305128  0.229154   \n",
       "temp  -0.051258 -0.024103  0.368842  0.052190  0.431532  0.469594  0.496208   \n",
       "RH     0.085223  0.062221 -0.095280  0.092151 -0.300995  0.073795 -0.039192   \n",
       "wind   0.018798 -0.020341 -0.086368  0.032478 -0.028485 -0.105342 -0.203466   \n",
       "rain   0.065387  0.033234  0.013438 -0.048340  0.056702  0.074790  0.035861   \n",
       "area   0.063385  0.044873  0.056496  0.023226  0.040122  0.072994  0.049383   \n",
       "\n",
       "            ISI      temp        RH      wind      rain      area  \n",
       "X      0.006210 -0.051258  0.085223  0.018798  0.065387  0.063385  \n",
       "Y     -0.024488 -0.024103  0.062221 -0.020341  0.033234  0.044873  \n",
       "month  0.186597  0.368842 -0.095280 -0.086368  0.013438  0.056496  \n",
       "day    0.032909  0.052190  0.092151  0.032478 -0.048340  0.023226  \n",
       "FFMC   0.531805  0.431532 -0.300995 -0.028485  0.056702  0.040122  \n",
       "DMC    0.305128  0.469594  0.073795 -0.105342  0.074790  0.072994  \n",
       "DC     0.229154  0.496208 -0.039192 -0.203466  0.035861  0.049383  \n",
       "ISI    1.000000  0.394287 -0.132517  0.106826  0.067668  0.008258  \n",
       "temp   0.394287  1.000000 -0.527390 -0.227116  0.069491  0.097844  \n",
       "RH    -0.132517 -0.527390  1.000000  0.069410  0.099751 -0.075519  \n",
       "wind   0.106826 -0.227116  0.069410  1.000000  0.061119  0.012317  \n",
       "rain   0.067668  0.069491  0.099751  0.061119  1.000000 -0.007366  \n",
       "area   0.008258  0.097844 -0.075519  0.012317 -0.007366  1.000000  "
      ]
     },
     "execution_count": 5,
     "metadata": {},
     "output_type": "execute_result"
    }
   ],
   "source": [
    "df.corr()"
   ]
  },
  {
   "cell_type": "code",
   "execution_count": 6,
   "metadata": {},
   "outputs": [
    {
     "data": {
      "image/png": "[encoded data removed]",
      "text/plain": [
       "<matplotlib.figure.Figure at 0x7f85f036aac8>"
      ]
     },
     "metadata": {},
     "output_type": "display_data"
    }
   ],
   "source": [
    "plot_corr(df)"
   ]
  },
  {
   "cell_type": "markdown",
   "metadata": {},
   "source": [
    "Al analizar la correlación entre los datos podemos ver que existe una mayor relación entre los datos del sistema FWI y la temperatura. Esto tiene sentido dado que para calcularlos se utilza la temperatura como uno de los elementos de cálculo. Además, entre ellos también existe una relación considerable."
   ]
  },
  {
   "cell_type": "code",
   "execution_count": 7,
   "metadata": {
    "collapsed": true
   },
   "outputs": [],
   "source": [
    "X = df.iloc[:,:-1]\n",
    "y = df.loc[:,['area']]"
   ]
  },
  {
   "cell_type": "code",
   "execution_count": 8,
   "metadata": {
    "collapsed": true
   },
   "outputs": [],
   "source": [
    "# Split dataset 80% train, 20% test\n",
    "X_train, X_test, y_train, y_test = train_test_split(X, y, test_size=0.2, random_state=seed)"
   ]
  },
  {
   "cell_type": "code",
   "execution_count": 9,
   "metadata": {
    "collapsed": true
   },
   "outputs": [],
   "source": [
    "# Scaler \n",
    "scaler = StandardScaler().fit(X)\n",
    "\n",
    "# Pre-processing data\n",
    "X_train_sc = pd.DataFrame(scaler.transform(X), columns=X.columns)\n",
    "X_test_sc = pd.DataFrame(scaler.transform(X_test), columns=X.columns)"
   ]
  },
  {
   "cell_type": "markdown",
   "metadata": {
    "_cell_guid": "324140c7-7f87-4da2-bd22-1d7a5fee3a9d",
    "_uuid": "1c843abba9387c9d5d24c70d8785372e37b829af"
   },
   "source": [
    "Del análisis realizado anteriormente notamos que existe mayor cantidad de incendios \"pequeños\", es por esto que se sugiere aplicar la transformación logarítmica $y=ln(x+1)$ para incluir un poco de simetría y además escalar los datos."
   ]
  },
  {
   "cell_type": "code",
   "execution_count": 10,
   "metadata": {},
   "outputs": [],
   "source": [
    "# Function to transform target\n",
    "def transformTarget(y):\n",
    "    # Min - max scaler\n",
    "    y_scaler = MinMaxScaler(feature_range=(0, 1))\n",
    "    \n",
    "    # Logarithmic target\n",
    "    y_log = np.log(y + 1)\n",
    "    \n",
    "    y_scaler.fit(y_log)\n",
    "    \n",
    "    y_sc = y_scaler.transform(y_log)\n",
    "    \n",
    "    #y_sc = sy.fit_transform(y_log.as_matrix().reshape(len(y), 1)).flatten()\n",
    "    \n",
    "    return y_sc, y_scaler\n",
    "    \n",
    "# Function to compute the inverse transform\n",
    "def inverseTransformTarget(y, scaler):\n",
    "    y_log = scaler.inverse_transform(y)\n",
    "    y = np.exp(y_log) - 1\n",
    "    return y"
   ]
  },
  {
   "cell_type": "code",
   "execution_count": 11,
   "metadata": {},
   "outputs": [],
   "source": [
    "y_sc, y_scaler = transformTarget(y)"
   ]
  },
  {
   "cell_type": "code",
   "execution_count": 12,
   "metadata": {},
   "outputs": [
    {
     "data": {
      "image/png": "[encoded data removed]",
      "text/plain": [
       "<matplotlib.figure.Figure at 0x7f85b987cc50>"
      ]
     },
     "metadata": {},
     "output_type": "display_data"
    }
   ],
   "source": [
    "# Comparison plot\n",
    "plt.figure(figsize=(16, 8))\n",
    "plt.subplot(2, 2, 1)\n",
    "plt.plot(y.values)\n",
    "plt.title(\"Raw target\")\n",
    "plt.subplot(2, 2, 2)\n",
    "plt.plot(y_sc, 'r')\n",
    "plt.title(\"Transformed target\")\n",
    "plt.subplot(2, 2, 3)\n",
    "plt.hist(y.values)\n",
    "plt.title(\"Raw target histogram\")\n",
    "plt.subplot(2, 2, 4)\n",
    "plt.hist(y_sc, color='red')\n",
    "plt.title(\"Transformed target histogram\")\n",
    "plt.show()"
   ]
  },
  {
   "cell_type": "markdown",
   "metadata": {
    "_cell_guid": "672016b5-d342-4b07-aecd-c05162ea4592",
    "_uuid": "5a8237b39ba458073030197e5215a1dcadadc987"
   },
   "source": [
    "Notamos la clara diferencia en el área una vez que aplicamos la transformación logaritmica."
   ]
  },
  {
   "cell_type": "markdown",
   "metadata": {
    "_cell_guid": "e3763380-8a85-4871-93db-5bc374959e58",
    "_uuid": "9f4ceb7204e29a10368b7a73dbd198e00eef488e"
   },
   "source": [
    "Para evaluar la calidad de los modelos se utilizaran las méticas: $MAE$, $MSE$ y $RMSE$ para comparar los resultados del ariculo guía. "
   ]
  },
  {
   "cell_type": "code",
   "execution_count": 14,
   "metadata": {
    "_cell_guid": "872c71ba-12ec-4bb0-b54c-06742f1f315c",
    "_uuid": "d3c049296fd463ca5d841c798284ad90fc5c5120",
    "collapsed": true
   },
   "outputs": [],
   "source": [
    "def printScores(y_real, y_hat):\n",
    "    #print(\"R2: %.4f\" % r2_score(y_real, y_hat))\n",
    "    print(\"MSE: %.4f\" %  mean_squared_error(y_real, y_hat))\n",
    "    print(\"RMSE: %.4f\" % np.sqrt(mean_squared_error(y_real, y_hat)))\n",
    "    print(\"MAE: %.4f\" % mean_absolute_error(y_real, y_hat))"
   ]
  },
  {
   "cell_type": "code",
   "execution_count": 15,
   "metadata": {
    "collapsed": true
   },
   "outputs": [],
   "source": [
    "def checkRFECV(model, dataset, target):\n",
    "    sel = RFECV(model, step=1, cv=5, scoring='r2')\n",
    "    sel = sel.fit(dataset, target)\n",
    "    sel_pos = RFECVInfo(sel, plot=True)\n",
    "    return sel_pos # Features selected"
   ]
  },
  {
   "cell_type": "code",
   "execution_count": 16,
   "metadata": {
    "collapsed": true
   },
   "outputs": [],
   "source": [
    "def RFECVInfo(selector, plot=False):\n",
    "    print(\"Optimal number of features : %d\" % selector.n_features_)\n",
    "    print(\"Best score: %.4f\" % np.max(selector.grid_scores_))\n",
    "\n",
    "    if plot:\n",
    "        # Plot number of features VS. cross-validation scores\n",
    "        plt.figure(figsize=(10, 6))\n",
    "        plt.xlabel(\"Number of features selected\")\n",
    "        plt.ylabel(\"Cross validation score\")\n",
    "        plt.plot(np.arange(1, 1 + len(selector.grid_scores_)), selector.grid_scores_)\n",
    "        plt.grid(True)\n",
    "        plt.show()\n",
    "    else:\n",
    "        print(\"Scores: \", selector.grid_scores_) # Scores\n",
    "        print(\"Rankings: \", selector.ranking_) # Ranking\n",
    "        \n",
    "    # Get positions of features\n",
    "    pos = np.argwhere(selector.support_).T[0]\n",
    "    return pos"
   ]
  },
  {
   "cell_type": "code",
   "execution_count": 17,
   "metadata": {
    "collapsed": true
   },
   "outputs": [],
   "source": [
    "def CVScores(model):\n",
    "    scores = [\n",
    "        #[\"Train R²: \", model.cv_results_['mean_train_r2'][model.best_index_]],\n",
    "        [\"Train MSE: \", abs(model.cv_results_['mean_train_neg_mean_squared_error'][model.best_index_])],\n",
    "        [\"Train MAE: \", abs(model.cv_results_['mean_train_neg_mean_absolute_error'][model.best_index_])],\n",
    "        #[\"Validation R²: \", model.cv_results_['mean_test_r2'][model.best_index_]],\n",
    "        [\"Validation MSE: \", abs(model.cv_results_['mean_test_neg_mean_squared_error'][model.best_index_])],\n",
    "        [\"Validation MAE: \", abs(model.cv_results_['mean_test_neg_mean_absolute_error'][model.best_index_])]\n",
    "    ]\n",
    "    return pd.DataFrame(scores, columns=['Metric', 'Score'])"
   ]
  },
  {
   "cell_type": "code",
   "execution_count": 18,
   "metadata": {
    "collapsed": true
   },
   "outputs": [],
   "source": [
    "# Combine all data and targets using GridSearchCV\n",
    "def GSCVData(model, datasets, targets, parameters, scorers, cv, verbose=False):\n",
    "    gs_models = []\n",
    "    best_score = -np.inf\n",
    "    bd, bt, bm, m = 0, 0, 0, 0\n",
    "    \n",
    "    # Grid search for every data-target combination\n",
    "    for d in range(len(datasets)):\n",
    "            \n",
    "        for t in range(len(targets)):    \n",
    "                \n",
    "            #test_model = GridSearchCV(model, parameters, cv=cv, scoring=scorers, refit='r2', n_jobs=4)\n",
    "            #test_model = GridSearchCV(model, parameters, cv=cv, scoring='neg_mean_squared_error', n_jobs=4)\n",
    "            test_model = GridSearchCV(model, parameters, cv=cv, scoring=scorers, \n",
    "                                      refit='neg_mean_squared_error', n_jobs=4)\n",
    "            _ = test_model.fit(datasets[d], targets[t])\n",
    "                                                 \n",
    "            if test_model.best_score_ > best_score:\n",
    "                best_score = test_model.best_score_\n",
    "                bd, bt, bm = d, t, m\n",
    "                \n",
    "            if verbose:\n",
    "                print(data_labels[d] + \", \" + target_labels[t])\n",
    "                CVScores(test_model)\n",
    "                print(\"\")\n",
    "                \n",
    "            gs_models.append(test_model)\n",
    "            m += 1\n",
    "        \n",
    "    print(\"Best model configuration:\")\n",
    "    #print(\"Data: %s\" % data_labels[bd])\n",
    "    #print(\"Target: %s\" % target_labels[bt])\n",
    "    print(\"Parameters: %s\" % gs_models[bm].best_params_)\n",
    "    print(\"Best Score: %.4f\" % gs_models[bm].best_score_)\n",
    "    print(\"\")\n",
    "                \n",
    "    return gs_models, bd, bt, bm"
   ]
  },
  {
   "cell_type": "code",
   "execution_count": 21,
   "metadata": {},
   "outputs": [],
   "source": [
    "# Fixed variables\n",
    "\n",
    "# Data\n",
    "#datasets = [STFWI_sc, STFWI1C_sc, STM_sc, STM1C_sc, FWI_sc, M_sc, X_sc, X1C_sc] # List of datasets tested\n",
    "#targets = [y_sc, y_log, y_log_sc] # List of targets tested\n",
    "datasets = [X_train_sc]#, shuffle(X_train_sc, random_state=0)]\n",
    "targets = [y_sc]\n",
    "\n",
    "# Labels for naming\n",
    "#data_labels = [\"STFWI\", \"STFWI 1C\", \"STM\", \"STM 1C\", \"FWI\", \"M\", \"X\", \"X 1C\"]\n",
    "#target_labels = [\"Scaled\", \"Logarithmic\", \"Logarithmic scaled\"]\n",
    "data_labels = [\"Normal\"]#, \"Shuffle 1\"]\n",
    "target_labels = [\"Transformed\"]\n",
    "\n",
    "# Metric scorers\n",
    "scorers = ['neg_mean_squared_error', 'neg_mean_absolute_error']\n",
    "\n",
    "# Number of K-folds for cross validation\n",
    "cv_ = 5"
   ]
  },
  {
   "cell_type": "markdown",
   "metadata": {
    "_cell_guid": "dc0fd0f3-f39b-401b-831b-8599b641aab0",
    "_uuid": "89882ade1dc4e9daf5c7839ce0f72b290eaad0b5"
   },
   "source": [
    "## Linear Regression"
   ]
  },
  {
   "cell_type": "code",
   "execution_count": 22,
   "metadata": {
    "collapsed": true
   },
   "outputs": [],
   "source": [
    "def searchLR(model, datasets, targets, cv, verbose=False):\n",
    "    scores = np.zeros((len(datasets), len(targets), 2))\n",
    "    best_mse_score = -np.inf\n",
    "    bd, bt = 0, 0\n",
    "\n",
    "    for d in range(len(datasets)):\n",
    "        for t in range(len(targets)):\n",
    "            #r2 = cross_val_score(model, datasets[d], targets[t], \n",
    "            #                     cv=cv, scoring='r2', n_jobs=-1)\n",
    "            mse = cross_val_score(model, datasets[d], targets[t], \n",
    "                                  cv=cv, scoring='neg_mean_squared_error', n_jobs=-1)\n",
    "            mae = cross_val_score(model, datasets[d], targets[t], cv=cv, \n",
    "                                  scoring='neg_mean_absolute_error', n_jobs=-1)\n",
    "\n",
    "            #scores[d, t, 0] = r2.mean()\n",
    "            scores[d, t, 0] = mse.mean()\n",
    "            scores[d, t, 1] = mae.mean()\n",
    "            \n",
    "            if scores[d, t, 0] > best_mse_score:\n",
    "                best_mse_score = scores[d, t, 0]\n",
    "                bd, bt = d, t\n",
    "\n",
    "            if verbose:\n",
    "                print(\"Best configuration:\")\n",
    "                #print(\"Data: %s\" % data_labels[bd])\n",
    "                #print(\"Target: %s\" % target_labels[bt])\n",
    "                #print(\"R2: %.4f\" % scores[bd, bt, 0])\n",
    "                print(\"MSE: %.4f\" % abs(scores[bd, bt, 0]))\n",
    "                print(\"MAE: %.4f\" % abs(scores[bd, bt, 1]))    \n",
    "                print(\"\")\n",
    "        \n",
    "        print(\"Best configuration:\")\n",
    "        #print(\"Data: %s\" % data_labels[bd])\n",
    "        #print(\"Target: %s\" % target_labels[bt])\n",
    "        #print(\"R2: %.4f\" % scores[bd, bt, 0])\n",
    "        print(\"MSE: %.4f\" % abs(scores[bd, bt, 0]))\n",
    "        print(\"MAE: %.4f\" % abs(scores[bd, bt, 1]))    \n",
    "        print(\"\")\n",
    "        \n",
    "        return scores, bd, bt"
   ]
  },
  {
   "cell_type": "code",
   "execution_count": 23,
   "metadata": {},
   "outputs": [
    {
     "name": "stdout",
     "output_type": "stream",
     "text": [
      "Best configuration:\n",
      "MSE: 0.0551\n",
      "MAE: 0.1878\n",
      "\n"
     ]
    }
   ],
   "source": [
    "sc, lr_d , lr_t = searchLR(LR(), datasets, targets, cv_)"
   ]
  },
  {
   "cell_type": "code",
   "execution_count": 24,
   "metadata": {},
   "outputs": [
    {
     "name": "stdout",
     "output_type": "stream",
     "text": [
      "Optimal number of features : 1\n",
      "Best score: -0.1655\n"
     ]
    },
    {
     "data": {
      "image/png": "[encoded data removed]",
      "text/plain": [
       "<matplotlib.figure.Figure at 0x7f85b9086c50>"
      ]
     },
     "metadata": {},
     "output_type": "display_data"
    }
   ],
   "source": [
    "_ = checkRFECV(LR(), datasets[lr_d], targets[lr_t])"
   ]
  },
  {
   "cell_type": "code",
   "execution_count": 37,
   "metadata": {
    "collapsed": true
   },
   "outputs": [],
   "source": [
    "lr = LR()"
   ]
  },
  {
   "cell_type": "code",
   "execution_count": 38,
   "metadata": {},
   "outputs": [
    {
     "data": {
      "text/plain": [
       "LinearRegression(copy_X=True, fit_intercept=True, n_jobs=1, normalize=False)"
      ]
     },
     "execution_count": 38,
     "metadata": {},
     "output_type": "execute_result"
    }
   ],
   "source": [
    "lr.fit(X_train_sc, y_sc)"
   ]
  },
  {
   "cell_type": "code",
   "execution_count": 45,
   "metadata": {},
   "outputs": [
    {
     "name": "stdout",
     "output_type": "stream",
     "text": [
      "MSE: 12069.9164\n",
      "RMSE: 109.8632\n",
      "MAE: 19.5794\n"
     ]
    }
   ],
   "source": [
    "lr_y_pred = lr.predict(X_test_sc)\n",
    "printScores(y_test, inverseTransformTarget(lr_y_pred.reshape(-1, 1), y_scaler))"
   ]
  },
  {
   "cell_type": "markdown",
   "metadata": {
    "_cell_guid": "c460f1d2-f5c4-4e1d-a1b2-eef89c192341",
    "_uuid": "e5360fe31608b6a9f4cba3f9205053d163909f7f"
   },
   "source": [
    "## Decision Trees"
   ]
  },
  {
   "cell_type": "code",
   "execution_count": 40,
   "metadata": {
    "collapsed": true
   },
   "outputs": [],
   "source": [
    "dtr_parameters = {\n",
    "    'criterion': ['mse', 'mae'],\n",
    "    'splitter': ['best', 'random'], \n",
    "    'max_depth': [10, 50, 100]\n",
    "}"
   ]
  },
  {
   "cell_type": "code",
   "execution_count": 41,
   "metadata": {
    "scrolled": false
   },
   "outputs": [
    {
     "name": "stdout",
     "output_type": "stream",
     "text": [
      "Best model configuration:\n",
      "Parameters: {'criterion': 'mae', 'max_depth': 10, 'splitter': 'best'}\n",
      "Best Score: -0.0802\n",
      "\n"
     ]
    }
   ],
   "source": [
    "dtr_models, dtr_d, dtr_t, dtr_m = GSCVData(DTR(), datasets, targets, dtr_parameters, scorers, cv_)"
   ]
  },
  {
   "cell_type": "code",
   "execution_count": 42,
   "metadata": {},
   "outputs": [
    {
     "data": {
      "text/html": [
       "<div>\n",
       "<style>\n",
       "    .dataframe thead tr:only-child th {\n",
       "        text-align: right;\n",
       "    }\n",
       "\n",
       "    .dataframe thead th {\n",
       "        text-align: left;\n",
       "    }\n",
       "\n",
       "    .dataframe tbody tr th {\n",
       "        vertical-align: top;\n",
       "    }\n",
       "</style>\n",
       "<table border=\"1\" class=\"dataframe\">\n",
       "  <thead>\n",
       "    <tr style=\"text-align: right;\">\n",
       "      <th></th>\n",
       "      <th>Metric</th>\n",
       "      <th>Score</th>\n",
       "    </tr>\n",
       "  </thead>\n",
       "  <tbody>\n",
       "    <tr>\n",
       "      <th>0</th>\n",
       "      <td>Train MSE:</td>\n",
       "      <td>0.026533</td>\n",
       "    </tr>\n",
       "    <tr>\n",
       "      <th>1</th>\n",
       "      <td>Train MAE:</td>\n",
       "      <td>0.076277</td>\n",
       "    </tr>\n",
       "    <tr>\n",
       "      <th>2</th>\n",
       "      <td>Validation MSE:</td>\n",
       "      <td>0.080247</td>\n",
       "    </tr>\n",
       "    <tr>\n",
       "      <th>3</th>\n",
       "      <td>Validation MAE:</td>\n",
       "      <td>0.212517</td>\n",
       "    </tr>\n",
       "  </tbody>\n",
       "</table>\n",
       "</div>"
      ],
      "text/plain": [
       "             Metric     Score\n",
       "0       Train MSE:   0.026533\n",
       "1       Train MAE:   0.076277\n",
       "2  Validation MSE:   0.080247\n",
       "3  Validation MAE:   0.212517"
      ]
     },
     "execution_count": 42,
     "metadata": {},
     "output_type": "execute_result"
    }
   ],
   "source": [
    "CVScores(dtr_models[dtr_m])"
   ]
  },
  {
   "cell_type": "code",
   "execution_count": 43,
   "metadata": {},
   "outputs": [
    {
     "data": {
      "text/plain": [
       "['models/dt.pkl']"
      ]
     },
     "execution_count": 43,
     "metadata": {},
     "output_type": "execute_result"
    }
   ],
   "source": [
    "joblib.dump(dtr_models[dtr_m].best_estimator_, 'models/dt.pkl')"
   ]
  },
  {
   "cell_type": "code",
   "execution_count": 46,
   "metadata": {},
   "outputs": [
    {
     "name": "stdout",
     "output_type": "stream",
     "text": [
      "MSE: 11575.8427\n",
      "RMSE: 107.5911\n",
      "MAE: 15.0174\n"
     ]
    }
   ],
   "source": [
    "dt = dtr_models[dtr_m].best_estimator_\n",
    "dt_y_pred = dt.predict(X_test_sc)\n",
    "printScores(y_test, inverseTransformTarget(dt_y_pred.reshape(-1, 1), y_scaler))"
   ]
  },
  {
   "cell_type": "markdown",
   "metadata": {
    "_cell_guid": "3d8daf57-2c42-455a-918d-b008b05abfdb",
    "_uuid": "69f1db5516dabe313c281efe2b74e62e60bfc3ef",
    "collapsed": true
   },
   "source": [
    "## SVM"
   ]
  },
  {
   "cell_type": "code",
   "execution_count": 47,
   "metadata": {
    "_cell_guid": "9b307399-76b5-4168-8bac-52fd02bc6757",
    "_uuid": "2dd4014239ff04eeac1bdb9f2ac71f1e4e728231",
    "collapsed": true
   },
   "outputs": [],
   "source": [
    "svr_parameters = [\n",
    "    {'C': [1, 10, 100], 'epsilon': [0.001, 0.01, 0.1], 'kernel': ['linear']},\n",
    "    {'C': [1, 10, 100], 'epsilon': [0.001, 0.01, 0.1], \n",
    "         'kernel': ['poly'], 'degree': [3, 4, 5], 'gamma': [0.001, 0.0001]},\n",
    "    {'C': [1, 10, 100], 'epsilon': [0.001, 0.01, 0.1], 'kernel': ['rbf'], 'gamma': [0.001, 0.0001]},\n",
    "    {'C': [1, 10, 100], 'epsilon': [0.001, 0.01, 0.1], 'kernel': ['sigmoid'], 'gamma': [0.001, 0.0001]}\n",
    " ]"
   ]
  },
  {
   "cell_type": "code",
   "execution_count": 48,
   "metadata": {},
   "outputs": [
    {
     "name": "stdout",
     "output_type": "stream",
     "text": [
      "Best model configuration:\n",
      "Parameters: {'C': 1, 'degree': 5, 'epsilon': 0.1, 'gamma': 0.0001, 'kernel': 'poly'}\n",
      "Best Score: -0.0461\n",
      "\n"
     ]
    }
   ],
   "source": [
    "svr_models, svr_d, svr_t, svr_m = GSCVData(SVR(), datasets, targets, svr_parameters, scorers, cv_)"
   ]
  },
  {
   "cell_type": "code",
   "execution_count": 49,
   "metadata": {},
   "outputs": [
    {
     "data": {
      "text/html": [
       "<div>\n",
       "<style>\n",
       "    .dataframe thead tr:only-child th {\n",
       "        text-align: right;\n",
       "    }\n",
       "\n",
       "    .dataframe thead th {\n",
       "        text-align: left;\n",
       "    }\n",
       "\n",
       "    .dataframe tbody tr th {\n",
       "        vertical-align: top;\n",
       "    }\n",
       "</style>\n",
       "<table border=\"1\" class=\"dataframe\">\n",
       "  <thead>\n",
       "    <tr style=\"text-align: right;\">\n",
       "      <th></th>\n",
       "      <th>Metric</th>\n",
       "      <th>Score</th>\n",
       "    </tr>\n",
       "  </thead>\n",
       "  <tbody>\n",
       "    <tr>\n",
       "      <th>0</th>\n",
       "      <td>Train MSE:</td>\n",
       "      <td>0.041764</td>\n",
       "    </tr>\n",
       "    <tr>\n",
       "      <th>1</th>\n",
       "      <td>Train MAE:</td>\n",
       "      <td>0.157116</td>\n",
       "    </tr>\n",
       "    <tr>\n",
       "      <th>2</th>\n",
       "      <td>Validation MSE:</td>\n",
       "      <td>0.046120</td>\n",
       "    </tr>\n",
       "    <tr>\n",
       "      <th>3</th>\n",
       "      <td>Validation MAE:</td>\n",
       "      <td>0.169270</td>\n",
       "    </tr>\n",
       "  </tbody>\n",
       "</table>\n",
       "</div>"
      ],
      "text/plain": [
       "             Metric     Score\n",
       "0       Train MSE:   0.041764\n",
       "1       Train MAE:   0.157116\n",
       "2  Validation MSE:   0.046120\n",
       "3  Validation MAE:   0.169270"
      ]
     },
     "execution_count": 49,
     "metadata": {},
     "output_type": "execute_result"
    }
   ],
   "source": [
    "CVScores(svr_models[svr_m])"
   ]
  },
  {
   "cell_type": "code",
   "execution_count": null,
   "metadata": {},
   "outputs": [],
   "source": [
    "_ = checkRFECV(dtr_models[svr_m].best_estimator_, datasets[svr_d], targets[svr_t])"
   ]
  },
  {
   "cell_type": "code",
   "execution_count": 50,
   "metadata": {},
   "outputs": [
    {
     "data": {
      "text/plain": [
       "['models/svm.pkl']"
      ]
     },
     "execution_count": 50,
     "metadata": {},
     "output_type": "execute_result"
    }
   ],
   "source": [
    "joblib.dump(svr_models[svr_m].best_estimator_, 'models/svm.pkl')"
   ]
  },
  {
   "cell_type": "code",
   "execution_count": 51,
   "metadata": {},
   "outputs": [
    {
     "name": "stdout",
     "output_type": "stream",
     "text": [
      "MSE: 12135.2504\n",
      "RMSE: 110.1601\n",
      "MAE: 19.6729\n"
     ]
    }
   ],
   "source": [
    "svr = svr_models[svr_m].best_estimator_\n",
    "svr_y_pred = svr.predict(X_test_sc)\n",
    "printScores(y_test, inverseTransformTarget(svr_y_pred.reshape(-1, 1), y_scaler))"
   ]
  },
  {
   "cell_type": "markdown",
   "metadata": {
    "_cell_guid": "a18c8339-ee27-4cb5-8961-d7255db0123c",
    "_uuid": "0c4646c4d0bdc10d59d80ccc012bba644bb3ce34"
   },
   "source": [
    "## Neural Network"
   ]
  },
  {
   "cell_type": "code",
   "execution_count": 52,
   "metadata": {
    "_cell_guid": "a30a1ffe-dfeb-4286-92b2-a1fbed818b42",
    "_uuid": "6301b5a49c255df0711eb8065cd2c54107780fb7",
    "collapsed": true
   },
   "outputs": [],
   "source": [
    "nnr_parameters = {\n",
    "    'hidden_layer_sizes': [(5, ), (10, ), (20, )], \n",
    "    'activation':  ['identity', 'logistic', 'relu'] ,\n",
    "    'solver': ['lbfgs', 'sgd', 'adam'],\n",
    "    'alpha': [0.001, 0.01, 0.1],\n",
    "    'batch_size': [50, 100, 200],\n",
    "}"
   ]
  },
  {
   "cell_type": "code",
   "execution_count": 53,
   "metadata": {},
   "outputs": [
    {
     "name": "stdout",
     "output_type": "stream",
     "text": [
      "Best model configuration:\n",
      "Parameters: {'activation': 'logistic', 'alpha': 0.1, 'batch_size': 50, 'hidden_layer_sizes': (20,), 'solver': 'adam'}\n",
      "Best Score: -0.0457\n",
      "\n"
     ]
    }
   ],
   "source": [
    "nnr_models, nnr_d, nnr_t, nnr_m = GSCVData(MLPR(random_state=seed), datasets, targets, nnr_parameters, scorers, cv_)"
   ]
  },
  {
   "cell_type": "code",
   "execution_count": 54,
   "metadata": {},
   "outputs": [
    {
     "data": {
      "text/html": [
       "<div>\n",
       "<style>\n",
       "    .dataframe thead tr:only-child th {\n",
       "        text-align: right;\n",
       "    }\n",
       "\n",
       "    .dataframe thead th {\n",
       "        text-align: left;\n",
       "    }\n",
       "\n",
       "    .dataframe tbody tr th {\n",
       "        vertical-align: top;\n",
       "    }\n",
       "</style>\n",
       "<table border=\"1\" class=\"dataframe\">\n",
       "  <thead>\n",
       "    <tr style=\"text-align: right;\">\n",
       "      <th></th>\n",
       "      <th>Metric</th>\n",
       "      <th>Score</th>\n",
       "    </tr>\n",
       "  </thead>\n",
       "  <tbody>\n",
       "    <tr>\n",
       "      <th>0</th>\n",
       "      <td>Train MSE:</td>\n",
       "      <td>0.037896</td>\n",
       "    </tr>\n",
       "    <tr>\n",
       "      <th>1</th>\n",
       "      <td>Train MAE:</td>\n",
       "      <td>0.158520</td>\n",
       "    </tr>\n",
       "    <tr>\n",
       "      <th>2</th>\n",
       "      <td>Validation MSE:</td>\n",
       "      <td>0.045662</td>\n",
       "    </tr>\n",
       "    <tr>\n",
       "      <th>3</th>\n",
       "      <td>Validation MAE:</td>\n",
       "      <td>0.177106</td>\n",
       "    </tr>\n",
       "  </tbody>\n",
       "</table>\n",
       "</div>"
      ],
      "text/plain": [
       "             Metric     Score\n",
       "0       Train MSE:   0.037896\n",
       "1       Train MAE:   0.158520\n",
       "2  Validation MSE:   0.045662\n",
       "3  Validation MAE:   0.177106"
      ]
     },
     "execution_count": 54,
     "metadata": {},
     "output_type": "execute_result"
    }
   ],
   "source": [
    "CVScores(nnr_models[nnr_m])"
   ]
  },
  {
   "cell_type": "code",
   "execution_count": 55,
   "metadata": {},
   "outputs": [
    {
     "data": {
      "text/plain": [
       "['models/mlp.pkl']"
      ]
     },
     "execution_count": 55,
     "metadata": {},
     "output_type": "execute_result"
    }
   ],
   "source": [
    "joblib.dump(nnr_models[nnr_m].best_estimator_, 'models/mlp.pkl')"
   ]
  },
  {
   "cell_type": "code",
   "execution_count": 56,
   "metadata": {},
   "outputs": [
    {
     "name": "stdout",
     "output_type": "stream",
     "text": [
      "MSE: 12079.3711\n",
      "RMSE: 109.9062\n",
      "MAE: 19.6552\n"
     ]
    }
   ],
   "source": [
    "nnr = nnr_models[nnr_m].best_estimator_\n",
    "nnr_y_pred = nnr.predict(X_test_sc)\n",
    "printScores(y_test, inverseTransformTarget(nnr_y_pred.reshape(-1, 1), y_scaler))"
   ]
  },
  {
   "cell_type": "markdown",
   "metadata": {},
   "source": [
    "## Bagging"
   ]
  },
  {
   "cell_type": "code",
   "execution_count": 57,
   "metadata": {
    "collapsed": true
   },
   "outputs": [],
   "source": [
    "bgr_parameters = {\n",
    "    'n_estimators': [50, 100, 200], \n",
    "}"
   ]
  },
  {
   "cell_type": "code",
   "execution_count": 58,
   "metadata": {},
   "outputs": [
    {
     "name": "stdout",
     "output_type": "stream",
     "text": [
      "Best model configuration:\n",
      "Parameters: {'n_estimators': 50}\n",
      "Best Score: -0.0603\n",
      "\n"
     ]
    }
   ],
   "source": [
    "bgr_models, bgr_d, bgr_t, bgr_m = GSCVData(BR(random_state=seed, n_jobs=-1), datasets, targets, \n",
    "                                           bgr_parameters, scorers, cv_)"
   ]
  },
  {
   "cell_type": "code",
   "execution_count": 59,
   "metadata": {},
   "outputs": [
    {
     "data": {
      "text/html": [
       "<div>\n",
       "<style>\n",
       "    .dataframe thead tr:only-child th {\n",
       "        text-align: right;\n",
       "    }\n",
       "\n",
       "    .dataframe thead th {\n",
       "        text-align: left;\n",
       "    }\n",
       "\n",
       "    .dataframe tbody tr th {\n",
       "        vertical-align: top;\n",
       "    }\n",
       "</style>\n",
       "<table border=\"1\" class=\"dataframe\">\n",
       "  <thead>\n",
       "    <tr style=\"text-align: right;\">\n",
       "      <th></th>\n",
       "      <th>Metric</th>\n",
       "      <th>Score</th>\n",
       "    </tr>\n",
       "  </thead>\n",
       "  <tbody>\n",
       "    <tr>\n",
       "      <th>0</th>\n",
       "      <td>Train MSE:</td>\n",
       "      <td>0.006518</td>\n",
       "    </tr>\n",
       "    <tr>\n",
       "      <th>1</th>\n",
       "      <td>Train MAE:</td>\n",
       "      <td>0.063305</td>\n",
       "    </tr>\n",
       "    <tr>\n",
       "      <th>2</th>\n",
       "      <td>Validation MSE:</td>\n",
       "      <td>0.060268</td>\n",
       "    </tr>\n",
       "    <tr>\n",
       "      <th>3</th>\n",
       "      <td>Validation MAE:</td>\n",
       "      <td>0.203382</td>\n",
       "    </tr>\n",
       "  </tbody>\n",
       "</table>\n",
       "</div>"
      ],
      "text/plain": [
       "             Metric     Score\n",
       "0       Train MSE:   0.006518\n",
       "1       Train MAE:   0.063305\n",
       "2  Validation MSE:   0.060268\n",
       "3  Validation MAE:   0.203382"
      ]
     },
     "execution_count": 59,
     "metadata": {},
     "output_type": "execute_result"
    }
   ],
   "source": [
    "CVScores(bgr_models[bgr_m])"
   ]
  },
  {
   "cell_type": "code",
   "execution_count": 61,
   "metadata": {},
   "outputs": [
    {
     "data": {
      "text/plain": [
       "['models/bagg.pkl']"
      ]
     },
     "execution_count": 61,
     "metadata": {},
     "output_type": "execute_result"
    }
   ],
   "source": [
    "joblib.dump(bgr_models[bgr_m].best_estimator_, 'models/bagg.pkl')"
   ]
  },
  {
   "cell_type": "code",
   "execution_count": 60,
   "metadata": {},
   "outputs": [
    {
     "name": "stdout",
     "output_type": "stream",
     "text": [
      "MSE: 8978.2424\n",
      "RMSE: 94.7536\n",
      "MAE: 14.3763\n"
     ]
    }
   ],
   "source": [
    "bgr = bgr_models[bgr_m].best_estimator_\n",
    "bgr_y_pred = bgr.predict(X_test_sc)\n",
    "printScores(y_test, inverseTransformTarget(bgr_y_pred.reshape(-1, 1), y_scaler))"
   ]
  },
  {
   "cell_type": "markdown",
   "metadata": {
    "_cell_guid": "add2b9a3-10c9-4b40-8e31-3480b225f6d7",
    "_uuid": "4d35e42ffb5ac6acb67a3ab3c6285afe84ee9d0a"
   },
   "source": [
    "## Random Forest"
   ]
  },
  {
   "cell_type": "code",
   "execution_count": 62,
   "metadata": {
    "collapsed": true
   },
   "outputs": [],
   "source": [
    "rfr_parameters = {\n",
    "    'n_estimators': [10, 20, 30], \n",
    "    'criterion': ['mse', 'mae'], \n",
    "    'max_depth': [50, 100]\n",
    "}"
   ]
  },
  {
   "cell_type": "code",
   "execution_count": 63,
   "metadata": {},
   "outputs": [
    {
     "name": "stdout",
     "output_type": "stream",
     "text": [
      "Best model configuration:\n",
      "Parameters: {'criterion': 'mae', 'max_depth': 50, 'n_estimators': 30}\n",
      "Best Score: -0.0584\n",
      "\n"
     ]
    }
   ],
   "source": [
    "rfr_models, rfr_d, rfr_t, rfr_m = GSCVData(RFR(random_state=seed, n_jobs=-1), \n",
    "                                           datasets, targets, rfr_parameters, scorers, cv_)"
   ]
  },
  {
   "cell_type": "code",
   "execution_count": 64,
   "metadata": {},
   "outputs": [
    {
     "data": {
      "text/html": [
       "<div>\n",
       "<style>\n",
       "    .dataframe thead tr:only-child th {\n",
       "        text-align: right;\n",
       "    }\n",
       "\n",
       "    .dataframe thead th {\n",
       "        text-align: left;\n",
       "    }\n",
       "\n",
       "    .dataframe tbody tr th {\n",
       "        vertical-align: top;\n",
       "    }\n",
       "</style>\n",
       "<table border=\"1\" class=\"dataframe\">\n",
       "  <thead>\n",
       "    <tr style=\"text-align: right;\">\n",
       "      <th></th>\n",
       "      <th>Metric</th>\n",
       "      <th>Score</th>\n",
       "    </tr>\n",
       "  </thead>\n",
       "  <tbody>\n",
       "    <tr>\n",
       "      <th>0</th>\n",
       "      <td>Train MSE:</td>\n",
       "      <td>0.008026</td>\n",
       "    </tr>\n",
       "    <tr>\n",
       "      <th>1</th>\n",
       "      <td>Train MAE:</td>\n",
       "      <td>0.068680</td>\n",
       "    </tr>\n",
       "    <tr>\n",
       "      <th>2</th>\n",
       "      <td>Validation MSE:</td>\n",
       "      <td>0.058435</td>\n",
       "    </tr>\n",
       "    <tr>\n",
       "      <th>3</th>\n",
       "      <td>Validation MAE:</td>\n",
       "      <td>0.199943</td>\n",
       "    </tr>\n",
       "  </tbody>\n",
       "</table>\n",
       "</div>"
      ],
      "text/plain": [
       "             Metric     Score\n",
       "0       Train MSE:   0.008026\n",
       "1       Train MAE:   0.068680\n",
       "2  Validation MSE:   0.058435\n",
       "3  Validation MAE:   0.199943"
      ]
     },
     "execution_count": 64,
     "metadata": {},
     "output_type": "execute_result"
    }
   ],
   "source": [
    "CVScores(rfr_models[rfr_m])"
   ]
  },
  {
   "cell_type": "code",
   "execution_count": 65,
   "metadata": {},
   "outputs": [
    {
     "name": "stdout",
     "output_type": "stream",
     "text": [
      "MSE: 10293.9710\n",
      "RMSE: 101.4592\n",
      "MAE: 15.2504\n"
     ]
    }
   ],
   "source": [
    "rfr = rfr_models[rfr_m].best_estimator_\n",
    "rfr_y_pred = rfr.predict(X_test_sc)\n",
    "printScores(y_test, inverseTransformTarget(rfr_y_pred.reshape(-1, 1), y_scaler))"
   ]
  },
  {
   "cell_type": "code",
   "execution_count": null,
   "metadata": {},
   "outputs": [],
   "source": [
    "_ = checkRFECV(rfr_models[rfr_m].best_estimator_, datasets[rfr_d], targets[rfr_t])"
   ]
  },
  {
   "cell_type": "code",
   "execution_count": 66,
   "metadata": {},
   "outputs": [
    {
     "data": {
      "text/plain": [
       "['models/rf.pkl']"
      ]
     },
     "execution_count": 66,
     "metadata": {},
     "output_type": "execute_result"
    }
   ],
   "source": [
    "joblib.dump(rfr_models[rfr_m].best_estimator_, 'models/rf.pkl')"
   ]
  },
  {
   "cell_type": "markdown",
   "metadata": {},
   "source": [
    "## Extremely Randomized Trees"
   ]
  },
  {
   "cell_type": "code",
   "execution_count": 67,
   "metadata": {
    "collapsed": true
   },
   "outputs": [],
   "source": [
    "etr_parameters = {\n",
    "    'n_estimators': [50, 100, 200], \n",
    "    'criterion': [\"mse\", \"mae\"],\n",
    "    'max_features': [\"auto\", \"sqrt\", \"log2\", None],\n",
    "    'max_depth': [10, 50, 100]\n",
    "}"
   ]
  },
  {
   "cell_type": "code",
   "execution_count": 68,
   "metadata": {},
   "outputs": [
    {
     "name": "stdout",
     "output_type": "stream",
     "text": [
      "Best model configuration:\n",
      "Parameters: {'criterion': 'mse', 'max_depth': 10, 'max_features': 'sqrt', 'n_estimators': 50}\n",
      "Best Score: -0.0523\n",
      "\n"
     ]
    }
   ],
   "source": [
    "etr_models, etr_d, etr_t, etr_m = GSCVData(ETR(random_state=seed, n_jobs=-1), datasets, targets, \n",
    "                                           etr_parameters, scorers, cv_)"
   ]
  },
  {
   "cell_type": "code",
   "execution_count": 69,
   "metadata": {},
   "outputs": [
    {
     "data": {
      "text/html": [
       "<div>\n",
       "<style>\n",
       "    .dataframe thead tr:only-child th {\n",
       "        text-align: right;\n",
       "    }\n",
       "\n",
       "    .dataframe thead th {\n",
       "        text-align: left;\n",
       "    }\n",
       "\n",
       "    .dataframe tbody tr th {\n",
       "        vertical-align: top;\n",
       "    }\n",
       "</style>\n",
       "<table border=\"1\" class=\"dataframe\">\n",
       "  <thead>\n",
       "    <tr style=\"text-align: right;\">\n",
       "      <th></th>\n",
       "      <th>Metric</th>\n",
       "      <th>Score</th>\n",
       "    </tr>\n",
       "  </thead>\n",
       "  <tbody>\n",
       "    <tr>\n",
       "      <th>0</th>\n",
       "      <td>Train MSE:</td>\n",
       "      <td>0.015795</td>\n",
       "    </tr>\n",
       "    <tr>\n",
       "      <th>1</th>\n",
       "      <td>Train MAE:</td>\n",
       "      <td>0.098231</td>\n",
       "    </tr>\n",
       "    <tr>\n",
       "      <th>2</th>\n",
       "      <td>Validation MSE:</td>\n",
       "      <td>0.052315</td>\n",
       "    </tr>\n",
       "    <tr>\n",
       "      <th>3</th>\n",
       "      <td>Validation MAE:</td>\n",
       "      <td>0.188978</td>\n",
       "    </tr>\n",
       "  </tbody>\n",
       "</table>\n",
       "</div>"
      ],
      "text/plain": [
       "             Metric     Score\n",
       "0       Train MSE:   0.015795\n",
       "1       Train MAE:   0.098231\n",
       "2  Validation MSE:   0.052315\n",
       "3  Validation MAE:   0.188978"
      ]
     },
     "execution_count": 69,
     "metadata": {},
     "output_type": "execute_result"
    }
   ],
   "source": [
    "CVScores(etr_models[etr_m])"
   ]
  },
  {
   "cell_type": "code",
   "execution_count": 70,
   "metadata": {},
   "outputs": [
    {
     "data": {
      "text/plain": [
       "['models/etr.pkl']"
      ]
     },
     "execution_count": 70,
     "metadata": {},
     "output_type": "execute_result"
    }
   ],
   "source": [
    "joblib.dump(etr_models[etr_m].best_estimator_, 'models/etr.pkl')"
   ]
  },
  {
   "cell_type": "code",
   "execution_count": 71,
   "metadata": {},
   "outputs": [
    {
     "name": "stdout",
     "output_type": "stream",
     "text": [
      "MSE: 11764.2572\n",
      "RMSE: 108.4632\n",
      "MAE: 18.0386\n"
     ]
    }
   ],
   "source": [
    "etr = etr_models[etr_m].best_estimator_\n",
    "etr_y_pred = etr.predict(X_test_sc)\n",
    "printScores(y_test, inverseTransformTarget(etr_y_pred.reshape(-1, 1), y_scaler))"
   ]
  },
  {
   "cell_type": "markdown",
   "metadata": {},
   "source": [
    "## Adaboost"
   ]
  },
  {
   "cell_type": "code",
   "execution_count": 72,
   "metadata": {
    "collapsed": true
   },
   "outputs": [],
   "source": [
    "abr_parameters = {\n",
    "    'n_estimators': [50, 100, 200],\n",
    "    'learning_rate': [0.1, 0.5, 1],\n",
    "    'loss': ['linear', 'square', 'exponential'],\n",
    "}"
   ]
  },
  {
   "cell_type": "code",
   "execution_count": 73,
   "metadata": {},
   "outputs": [
    {
     "name": "stdout",
     "output_type": "stream",
     "text": [
      "Best model configuration:\n",
      "Parameters: {'learning_rate': 0.1, 'loss': 'exponential', 'n_estimators': 50}\n",
      "Best Score: -0.0496\n",
      "\n"
     ]
    }
   ],
   "source": [
    "abr_models, abr_d, abr_t, abr_m = GSCVData(ABR(random_state=seed), datasets, targets, abr_parameters, scorers, cv_)"
   ]
  },
  {
   "cell_type": "code",
   "execution_count": 74,
   "metadata": {},
   "outputs": [
    {
     "data": {
      "text/html": [
       "<div>\n",
       "<style>\n",
       "    .dataframe thead tr:only-child th {\n",
       "        text-align: right;\n",
       "    }\n",
       "\n",
       "    .dataframe thead th {\n",
       "        text-align: left;\n",
       "    }\n",
       "\n",
       "    .dataframe tbody tr th {\n",
       "        vertical-align: top;\n",
       "    }\n",
       "</style>\n",
       "<table border=\"1\" class=\"dataframe\">\n",
       "  <thead>\n",
       "    <tr style=\"text-align: right;\">\n",
       "      <th></th>\n",
       "      <th>Metric</th>\n",
       "      <th>Score</th>\n",
       "    </tr>\n",
       "  </thead>\n",
       "  <tbody>\n",
       "    <tr>\n",
       "      <th>0</th>\n",
       "      <td>Train MSE:</td>\n",
       "      <td>0.032967</td>\n",
       "    </tr>\n",
       "    <tr>\n",
       "      <th>1</th>\n",
       "      <td>Train MAE:</td>\n",
       "      <td>0.154462</td>\n",
       "    </tr>\n",
       "    <tr>\n",
       "      <th>2</th>\n",
       "      <td>Validation MSE:</td>\n",
       "      <td>0.049644</td>\n",
       "    </tr>\n",
       "    <tr>\n",
       "      <th>3</th>\n",
       "      <td>Validation MAE:</td>\n",
       "      <td>0.186854</td>\n",
       "    </tr>\n",
       "  </tbody>\n",
       "</table>\n",
       "</div>"
      ],
      "text/plain": [
       "             Metric     Score\n",
       "0       Train MSE:   0.032967\n",
       "1       Train MAE:   0.154462\n",
       "2  Validation MSE:   0.049644\n",
       "3  Validation MAE:   0.186854"
      ]
     },
     "execution_count": 74,
     "metadata": {},
     "output_type": "execute_result"
    }
   ],
   "source": [
    "CVScores(abr_models[abr_m])"
   ]
  },
  {
   "cell_type": "code",
   "execution_count": 75,
   "metadata": {},
   "outputs": [
    {
     "data": {
      "text/plain": [
       "['models/abr.pkl']"
      ]
     },
     "execution_count": 75,
     "metadata": {},
     "output_type": "execute_result"
    }
   ],
   "source": [
    "joblib.dump(abr_models[abr_m].best_estimator_, 'models/abr.pkl')"
   ]
  },
  {
   "cell_type": "code",
   "execution_count": 76,
   "metadata": {},
   "outputs": [
    {
     "name": "stdout",
     "output_type": "stream",
     "text": [
      "MSE: 11957.4573\n",
      "RMSE: 109.3502\n",
      "MAE: 19.6501\n"
     ]
    }
   ],
   "source": [
    "abr = abr_models[abr_m].best_estimator_\n",
    "abr_y_pred = abr.predict(X_test_sc)\n",
    "printScores(y_test, inverseTransformTarget(abr_y_pred.reshape(-1, 1), y_scaler))"
   ]
  },
  {
   "cell_type": "markdown",
   "metadata": {},
   "source": [
    "## Gradient Tree Boosting"
   ]
  },
  {
   "cell_type": "code",
   "execution_count": 77,
   "metadata": {
    "collapsed": true
   },
   "outputs": [],
   "source": [
    "gbr_parameters = {\n",
    "    'n_estimators': [50, 100, 200],\n",
    "    'learning_rate' : [0.1, 0.5, 1],\n",
    "    'loss': ['ls', 'lad', 'huber'],\n",
    "    'max_depth': [10, 20, 30],\n",
    "    'criterion': ['friedman_mse', 'mse', 'mae']\n",
    "}"
   ]
  },
  {
   "cell_type": "code",
   "execution_count": 78,
   "metadata": {},
   "outputs": [
    {
     "name": "stdout",
     "output_type": "stream",
     "text": [
      "Best model configuration:\n",
      "Parameters: {'criterion': 'mse', 'learning_rate': 0.1, 'loss': 'lad', 'max_depth': 30, 'n_estimators': 50}\n",
      "Best Score: -0.0608\n",
      "\n"
     ]
    }
   ],
   "source": [
    "gbr_models, gbr_d, gbr_t, gbr_m = GSCVData(GBR(random_state=seed), datasets, targets, gbr_parameters, scorers, cv_)"
   ]
  },
  {
   "cell_type": "code",
   "execution_count": 79,
   "metadata": {},
   "outputs": [
    {
     "data": {
      "text/html": [
       "<div>\n",
       "<style>\n",
       "    .dataframe thead tr:only-child th {\n",
       "        text-align: right;\n",
       "    }\n",
       "\n",
       "    .dataframe thead th {\n",
       "        text-align: left;\n",
       "    }\n",
       "\n",
       "    .dataframe tbody tr th {\n",
       "        vertical-align: top;\n",
       "    }\n",
       "</style>\n",
       "<table border=\"1\" class=\"dataframe\">\n",
       "  <thead>\n",
       "    <tr style=\"text-align: right;\">\n",
       "      <th></th>\n",
       "      <th>Metric</th>\n",
       "      <th>Score</th>\n",
       "    </tr>\n",
       "  </thead>\n",
       "  <tbody>\n",
       "    <tr>\n",
       "      <th>0</th>\n",
       "      <td>Train MSE:</td>\n",
       "      <td>0.001333</td>\n",
       "    </tr>\n",
       "    <tr>\n",
       "      <th>1</th>\n",
       "      <td>Train MAE:</td>\n",
       "      <td>0.010600</td>\n",
       "    </tr>\n",
       "    <tr>\n",
       "      <th>2</th>\n",
       "      <td>Validation MSE:</td>\n",
       "      <td>0.060808</td>\n",
       "    </tr>\n",
       "    <tr>\n",
       "      <th>3</th>\n",
       "      <td>Validation MAE:</td>\n",
       "      <td>0.199098</td>\n",
       "    </tr>\n",
       "  </tbody>\n",
       "</table>\n",
       "</div>"
      ],
      "text/plain": [
       "             Metric     Score\n",
       "0       Train MSE:   0.001333\n",
       "1       Train MAE:   0.010600\n",
       "2  Validation MSE:   0.060808\n",
       "3  Validation MAE:   0.199098"
      ]
     },
     "execution_count": 79,
     "metadata": {},
     "output_type": "execute_result"
    }
   ],
   "source": [
    "CVScores(gbr_models[gbr_m])"
   ]
  },
  {
   "cell_type": "code",
   "execution_count": 80,
   "metadata": {},
   "outputs": [
    {
     "data": {
      "text/plain": [
       "['models/gbr.pkl']"
      ]
     },
     "execution_count": 80,
     "metadata": {},
     "output_type": "execute_result"
    }
   ],
   "source": [
    "joblib.dump(gbr_models[gbr_m].best_estimator_, 'models/gbr.pkl')"
   ]
  },
  {
   "cell_type": "code",
   "execution_count": 81,
   "metadata": {},
   "outputs": [
    {
     "name": "stdout",
     "output_type": "stream",
     "text": [
      "MSE: 4255.8656\n",
      "RMSE: 65.2370\n",
      "MAE: 8.1275\n"
     ]
    }
   ],
   "source": [
    "gbr = gbr_models[gbr_m].best_estimator_\n",
    "gbr_y_pred = gbr.predict(X_test_sc)\n",
    "printScores(y_test, inverseTransformTarget(gbr_y_pred.reshape(-1, 1), y_scaler))"
   ]
  },
  {
   "cell_type": "markdown",
   "metadata": {},
   "source": [
    "## Conclusiones"
   ]
  },
  {
   "cell_type": "markdown",
   "metadata": {},
   "source": [
    "Del desarrollo de este proyecto notamos la potencia de los modelos ensamblados, los cuales\n",
    "mejoran los resultados considerablemente en comparación a los modelos no ensamblados. Si bien,\n",
    "la publicación guía sugiere el uso de ciertas configuraciones de $X$, que podría ser vistos como\n",
    "una selección de características, el modelo *GBT* demostró mejorar los resultados utilizando \n",
    "toda la información.\n",
    "\n",
    "Por limitaciones computacionales no se realizaron más pruebas, pero como trabajo futuro\n",
    "se espera incluir técnicas de selección de características para así poder comparar resultados\n",
    "en iguales condiciones. \n",
    "\n",
    "El modelo *GBT* nos entregó resultados bastante interesantes. Según la literatura es uno de \n",
    "los modelos más potentes pero que lamentablemente tiene asociada una alta exigencia computacional dada\n",
    "la estructura iterativa del algoritmo."
   ]
  },
  {
   "cell_type": "markdown",
   "metadata": {},
   "source": []
  },
  {
   "cell_type": "code",
   "execution_count": null,
   "metadata": {
    "collapsed": true
   },
   "outputs": [],
   "source": []
  }
 ],
 "metadata": {
  "kernelspec": {
   "display_name": "Python 3",
   "language": "python",
   "name": "python3"
  },
  "language_info": {
   "codemirror_mode": {
    "name": "ipython",
    "version": 3
   },
   "file_extension": ".py",
   "mimetype": "text/x-python",
   "name": "python",
   "nbconvert_exporter": "python",
   "pygments_lexer": "ipython3",
   "version": "3.6.2"
  }
 },
 "nbformat": 4,
 "nbformat_minor": 1
}
